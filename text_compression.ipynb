{
 "cells": [
  {
   "cell_type": "code",
   "execution_count": 2,
   "metadata": {},
   "outputs": [],
   "source": [
    "import sys\n",
    "import zlib\n",
    "\n",
    "\n",
    "text=b\"\"\"This function is the primary interface to this module along with \n",
    "decompress() function. This function returns byte object by compressing the data \n",
    "given to it as parameter. The function has another parameter called level which \n",
    "controls the extent of compression. It an integer between 0 to 9. Lowest value 0 \n",
    "stands for no compression and 9 stands for best compression. Higher the level of \n",
    "compression, greater the length of compressed byte object.\"\"\"\n",
    "\n"
   ]
  },
  {
   "cell_type": "code",
   "execution_count": 3,
   "metadata": {},
   "outputs": [
    {
     "name": "stdout",
     "output_type": "stream",
     "text": [
      "\n",
      "size of original text 484\n"
     ]
    }
   ],
   "source": [
    "# Checking size of text\n",
    "text_size=sys.getsizeof(text)\n",
    "print(\"\\nsize of original text\",text_size)\n",
    "\n"
   ]
  },
  {
   "cell_type": "code",
   "execution_count": 12,
   "metadata": {},
   "outputs": [],
   "source": [
    "# Compressing text\n",
    "compressed = zlib.compress(text, 9)\n",
    "\n"
   ]
  },
  {
   "cell_type": "code",
   "execution_count": 13,
   "metadata": {},
   "outputs": [
    {
     "name": "stdout",
     "output_type": "stream",
     "text": [
      "\n",
      "size of compressed text 280\n"
     ]
    }
   ],
   "source": [
    "# Checking size of text after compression\n",
    "csize=sys.getsizeof(compressed)\n",
    "print(\"\\nsize of compressed text\",csize)\n",
    "\n"
   ]
  },
  {
   "cell_type": "code",
   "execution_count": 14,
   "metadata": {},
   "outputs": [
    {
     "data": {
      "text/plain": [
       "b'x\\xdaU\\x90\\xc1n\\x840\\x0cD\\xef|\\xc5\\x1c[\\xa9B\\xbd\\xee\\x1f\\xb4R\\x8f\\xfb\\x03&\\x18H\\x15l\\x94\\x18\\xe8\\xfe}\\x9d\\xae\\xba\\xb0\\xb7(c\\xcf\\xbc\\xf1u\\x8a\\x05\\xc3*\\xc1\\xa2\\n\\xfcm\\x13c\\xc9q\\xa6|C\\x14\\xe3<P`\\x98\\xba\\xe0\\xea\\xac\\xfd\\x9a\\x18\\x94TF\\xec\\xd1&4=\\x07\\x9d\\x97\\xcc\\xa5\\xbc\\xbc>\\x9cZ\\\\\\x9f\\x8c3\\xdb\\x9a\\xa5\\xa0\\xbb\\x19C\\xbbo\\x0e\\xe6o\\xfcoFw\\xab\\xc1=\\x19\\xa1\\x19\\xe3\\xc6R#\\xa3\\x81\\n\\x16\\xca4\\xb3\\x93TS><\\'\\xd7H\\xd4\\xf7\\xf21\\x83@)q\\x8f\\xc4\\x1b\\'\\xecS\\x0c\\x8e\\x18T,k\\xba\\x97\\xe3\\x1fc1\\xe8p\\xa4W\\xdeO\\xcf\\x92\\xbf\\xc6\\xa3\\xbbtl;;\\xc4{\\xc5\\xb8\\xb4\\xf8\\xd2\\x9d\\x8ba\\xa3\\xb4\\xb2\\x7f6\\xc5Hz\\xef\\xa7\\x19\\xa2g#7\\xe9q\\xc1I\\xef\\xea\\xe2S\\xd4G\\x1c+s\\x85\\xb9c:Ks\\x9ax\\xc3\\x98\\x99\\xec1\"\\xa3\\xdf\\xf9\\xc4\\xeb\\xf5Nwl\\x7f\\x01\\x06\\xa5\\xa3w'"
      ]
     },
     "execution_count": 14,
     "metadata": {},
     "output_type": "execute_result"
    }
   ],
   "source": [
    "\n",
    "compressed"
   ]
  },
  {
   "cell_type": "code",
   "execution_count": 15,
   "metadata": {},
   "outputs": [],
   "source": [
    "# Decompressing text\n",
    "decompressed=zlib.decompress(compressed)\n",
    "\n"
   ]
  },
  {
   "cell_type": "code",
   "execution_count": 16,
   "metadata": {},
   "outputs": [
    {
     "name": "stdout",
     "output_type": "stream",
     "text": [
      "\n",
      "size of decompressed text 484\n",
      "\n",
      "Difference of size=  204\n"
     ]
    }
   ],
   "source": [
    "#Checking size of text after decompression\n",
    "dsize=sys.getsizeof(decompressed)\n",
    "print(\"\\nsize of decompressed text\",dsize)\n",
    "\n",
    "print(\"\\nDifference of size= \", text_size-csize)"
   ]
  },
  {
   "cell_type": "code",
   "execution_count": null,
   "metadata": {},
   "outputs": [],
   "source": []
  }
 ],
 "metadata": {
  "kernelspec": {
   "display_name": "Python 3.9.13 64-bit",
   "language": "python",
   "name": "python3"
  },
  "language_info": {
   "codemirror_mode": {
    "name": "ipython",
    "version": 3
   },
   "file_extension": ".py",
   "mimetype": "text/x-python",
   "name": "python",
   "nbconvert_exporter": "python",
   "pygments_lexer": "ipython3",
   "version": "3.9.13"
  },
  "orig_nbformat": 4,
  "vscode": {
   "interpreter": {
    "hash": "b0fa6594d8f4cbf19f97940f81e996739fb7646882a419484c72d19e05852a7e"
   }
  }
 },
 "nbformat": 4,
 "nbformat_minor": 2
}
