{
 "cells": [
  {
   "cell_type": "markdown",
   "metadata": {},
   "source": [
    "# Exercises\n",
    "Within your `codeup-data-science` directory, create a new repo named `advanced-topics`. This will be where you do your work for this module. Create a repository on GitHub with the same name, and link your local repository to GitHub.\n",
    "\n",
    "Save this work in your `advanced-topics` repo. Then add, commit, and push your changes.\n",
    "\n",
    "Do your work for this exercise in a jupyter notebook or python script named `cross_validation`.\n",
    "\n",
    "Use the cross validation techniques discussed in the lesson to figure out what kind of model works best with the cars dataset used in the lesson."
   ]
  },
  {
   "cell_type": "code",
   "execution_count": 1,
   "metadata": {},
   "outputs": [],
   "source": [
    "import pandas as pd\n",
    "import numpy as np\n",
    "import matplotlib.pyplot as plt\n",
    "import seaborn as sns\n",
    "import plotly.express as px\n",
    "\n",
    "from sklearn.model_selection import GridSearchCV\n",
    "from sklearn.tree import DecisionTreeClassifier\n",
    "from sklearn.neighbors import KNeighborsClassifier\n",
    "from sklearn.linear_model import LogisticRegression, LogisticRegressionCV, LassoLars, LassoLarsCV\n",
    "from sklearn.ensemble import RandomForestClassifier\n",
    "from sklearn.model_selection import train_test_split\n",
    "\n",
    "from pydataset import data\n",
    "\n",
    "df = data('mpg')\n"
   ]
  },
  {
   "cell_type": "code",
   "execution_count": 2,
   "metadata": {},
   "outputs": [],
   "source": [
    "# data('mpg', show_doc=True)"
   ]
  },
  {
   "cell_type": "code",
   "execution_count": 3,
   "metadata": {},
   "outputs": [
    {
     "data": {
      "text/html": [
       "<div>\n",
       "<style scoped>\n",
       "    .dataframe tbody tr th:only-of-type {\n",
       "        vertical-align: middle;\n",
       "    }\n",
       "\n",
       "    .dataframe tbody tr th {\n",
       "        vertical-align: top;\n",
       "    }\n",
       "\n",
       "    .dataframe thead th {\n",
       "        text-align: right;\n",
       "    }\n",
       "</style>\n",
       "<table border=\"1\" class=\"dataframe\">\n",
       "  <thead>\n",
       "    <tr style=\"text-align: right;\">\n",
       "      <th></th>\n",
       "      <th>manufacturer</th>\n",
       "      <th>model</th>\n",
       "      <th>displ</th>\n",
       "      <th>year</th>\n",
       "      <th>cyl</th>\n",
       "      <th>trans</th>\n",
       "      <th>drv</th>\n",
       "      <th>cty</th>\n",
       "      <th>hwy</th>\n",
       "      <th>fl</th>\n",
       "      <th>class</th>\n",
       "    </tr>\n",
       "  </thead>\n",
       "  <tbody>\n",
       "    <tr>\n",
       "      <th>1</th>\n",
       "      <td>audi</td>\n",
       "      <td>a4</td>\n",
       "      <td>1.8</td>\n",
       "      <td>1999</td>\n",
       "      <td>4</td>\n",
       "      <td>auto(l5)</td>\n",
       "      <td>f</td>\n",
       "      <td>18</td>\n",
       "      <td>29</td>\n",
       "      <td>p</td>\n",
       "      <td>compact</td>\n",
       "    </tr>\n",
       "    <tr>\n",
       "      <th>2</th>\n",
       "      <td>audi</td>\n",
       "      <td>a4</td>\n",
       "      <td>1.8</td>\n",
       "      <td>1999</td>\n",
       "      <td>4</td>\n",
       "      <td>manual(m5)</td>\n",
       "      <td>f</td>\n",
       "      <td>21</td>\n",
       "      <td>29</td>\n",
       "      <td>p</td>\n",
       "      <td>compact</td>\n",
       "    </tr>\n",
       "    <tr>\n",
       "      <th>3</th>\n",
       "      <td>audi</td>\n",
       "      <td>a4</td>\n",
       "      <td>2.0</td>\n",
       "      <td>2008</td>\n",
       "      <td>4</td>\n",
       "      <td>manual(m6)</td>\n",
       "      <td>f</td>\n",
       "      <td>20</td>\n",
       "      <td>31</td>\n",
       "      <td>p</td>\n",
       "      <td>compact</td>\n",
       "    </tr>\n",
       "    <tr>\n",
       "      <th>4</th>\n",
       "      <td>audi</td>\n",
       "      <td>a4</td>\n",
       "      <td>2.0</td>\n",
       "      <td>2008</td>\n",
       "      <td>4</td>\n",
       "      <td>auto(av)</td>\n",
       "      <td>f</td>\n",
       "      <td>21</td>\n",
       "      <td>30</td>\n",
       "      <td>p</td>\n",
       "      <td>compact</td>\n",
       "    </tr>\n",
       "    <tr>\n",
       "      <th>5</th>\n",
       "      <td>audi</td>\n",
       "      <td>a4</td>\n",
       "      <td>2.8</td>\n",
       "      <td>1999</td>\n",
       "      <td>6</td>\n",
       "      <td>auto(l5)</td>\n",
       "      <td>f</td>\n",
       "      <td>16</td>\n",
       "      <td>26</td>\n",
       "      <td>p</td>\n",
       "      <td>compact</td>\n",
       "    </tr>\n",
       "    <tr>\n",
       "      <th>...</th>\n",
       "      <td>...</td>\n",
       "      <td>...</td>\n",
       "      <td>...</td>\n",
       "      <td>...</td>\n",
       "      <td>...</td>\n",
       "      <td>...</td>\n",
       "      <td>...</td>\n",
       "      <td>...</td>\n",
       "      <td>...</td>\n",
       "      <td>...</td>\n",
       "      <td>...</td>\n",
       "    </tr>\n",
       "    <tr>\n",
       "      <th>230</th>\n",
       "      <td>volkswagen</td>\n",
       "      <td>passat</td>\n",
       "      <td>2.0</td>\n",
       "      <td>2008</td>\n",
       "      <td>4</td>\n",
       "      <td>auto(s6)</td>\n",
       "      <td>f</td>\n",
       "      <td>19</td>\n",
       "      <td>28</td>\n",
       "      <td>p</td>\n",
       "      <td>midsize</td>\n",
       "    </tr>\n",
       "    <tr>\n",
       "      <th>231</th>\n",
       "      <td>volkswagen</td>\n",
       "      <td>passat</td>\n",
       "      <td>2.0</td>\n",
       "      <td>2008</td>\n",
       "      <td>4</td>\n",
       "      <td>manual(m6)</td>\n",
       "      <td>f</td>\n",
       "      <td>21</td>\n",
       "      <td>29</td>\n",
       "      <td>p</td>\n",
       "      <td>midsize</td>\n",
       "    </tr>\n",
       "    <tr>\n",
       "      <th>232</th>\n",
       "      <td>volkswagen</td>\n",
       "      <td>passat</td>\n",
       "      <td>2.8</td>\n",
       "      <td>1999</td>\n",
       "      <td>6</td>\n",
       "      <td>auto(l5)</td>\n",
       "      <td>f</td>\n",
       "      <td>16</td>\n",
       "      <td>26</td>\n",
       "      <td>p</td>\n",
       "      <td>midsize</td>\n",
       "    </tr>\n",
       "    <tr>\n",
       "      <th>233</th>\n",
       "      <td>volkswagen</td>\n",
       "      <td>passat</td>\n",
       "      <td>2.8</td>\n",
       "      <td>1999</td>\n",
       "      <td>6</td>\n",
       "      <td>manual(m5)</td>\n",
       "      <td>f</td>\n",
       "      <td>18</td>\n",
       "      <td>26</td>\n",
       "      <td>p</td>\n",
       "      <td>midsize</td>\n",
       "    </tr>\n",
       "    <tr>\n",
       "      <th>234</th>\n",
       "      <td>volkswagen</td>\n",
       "      <td>passat</td>\n",
       "      <td>3.6</td>\n",
       "      <td>2008</td>\n",
       "      <td>6</td>\n",
       "      <td>auto(s6)</td>\n",
       "      <td>f</td>\n",
       "      <td>17</td>\n",
       "      <td>26</td>\n",
       "      <td>p</td>\n",
       "      <td>midsize</td>\n",
       "    </tr>\n",
       "  </tbody>\n",
       "</table>\n",
       "<p>234 rows × 11 columns</p>\n",
       "</div>"
      ],
      "text/plain": [
       "    manufacturer   model  displ  year  cyl       trans drv  cty  hwy fl  \\\n",
       "1           audi      a4    1.8  1999    4    auto(l5)   f   18   29  p   \n",
       "2           audi      a4    1.8  1999    4  manual(m5)   f   21   29  p   \n",
       "3           audi      a4    2.0  2008    4  manual(m6)   f   20   31  p   \n",
       "4           audi      a4    2.0  2008    4    auto(av)   f   21   30  p   \n",
       "5           audi      a4    2.8  1999    6    auto(l5)   f   16   26  p   \n",
       "..           ...     ...    ...   ...  ...         ...  ..  ...  ... ..   \n",
       "230   volkswagen  passat    2.0  2008    4    auto(s6)   f   19   28  p   \n",
       "231   volkswagen  passat    2.0  2008    4  manual(m6)   f   21   29  p   \n",
       "232   volkswagen  passat    2.8  1999    6    auto(l5)   f   16   26  p   \n",
       "233   volkswagen  passat    2.8  1999    6  manual(m5)   f   18   26  p   \n",
       "234   volkswagen  passat    3.6  2008    6    auto(s6)   f   17   26  p   \n",
       "\n",
       "       class  \n",
       "1    compact  \n",
       "2    compact  \n",
       "3    compact  \n",
       "4    compact  \n",
       "5    compact  \n",
       "..       ...  \n",
       "230  midsize  \n",
       "231  midsize  \n",
       "232  midsize  \n",
       "233  midsize  \n",
       "234  midsize  \n",
       "\n",
       "[234 rows x 11 columns]"
      ]
     },
     "execution_count": 3,
     "metadata": {},
     "output_type": "execute_result"
    }
   ],
   "source": [
    "df"
   ]
  },
  {
   "cell_type": "code",
   "execution_count": 4,
   "metadata": {},
   "outputs": [],
   "source": [
    "df.trans = np.where(df.trans.str.startswith('auto'), 'auto', 'manual')"
   ]
  },
  {
   "cell_type": "code",
   "execution_count": 5,
   "metadata": {},
   "outputs": [],
   "source": [
    "df = df.drop(columns=['manufacturer', 'model'])"
   ]
  },
  {
   "cell_type": "code",
   "execution_count": 7,
   "metadata": {},
   "outputs": [],
   "source": [
    "from wrangle import split_data, X_y_split"
   ]
  },
  {
   "cell_type": "code",
   "execution_count": 8,
   "metadata": {},
   "outputs": [
    {
     "name": "stdout",
     "output_type": "stream",
     "text": [
      "Prepared df: (234, 9)\n",
      "\n",
      "Train: (140, 9)\n",
      "Validate: (47, 9)\n",
      "Test: (47, 9)\n"
     ]
    }
   ],
   "source": [
    "train, validate, test = split_data(df, strat_by='trans', rand_st=123)"
   ]
  },
  {
   "cell_type": "code",
   "execution_count": 163,
   "metadata": {},
   "outputs": [
    {
     "data": {
      "text/plain": [
       "array(['4', 'f', 'r'], dtype=object)"
      ]
     },
     "execution_count": 163,
     "metadata": {},
     "output_type": "execute_result"
    }
   ],
   "source": [
    "train.drv.unique()"
   ]
  },
  {
   "cell_type": "code",
   "execution_count": 164,
   "metadata": {},
   "outputs": [
    {
     "name": "stdout",
     "output_type": "stream",
     "text": [
      "4\n",
      "f\n",
      "r\n"
     ]
    }
   ],
   "source": [
    "for x in train.drv.unique():\n",
    "    print(x)\n",
    "    # print(train.trans[train.drv == x].count)"
   ]
  },
  {
   "cell_type": "code",
   "execution_count": 167,
   "metadata": {},
   "outputs": [
    {
     "data": {
      "text/plain": [
       "drv  trans \n",
       "4    auto      48\n",
       "     manual    14\n",
       "f    auto      38\n",
       "     manual    26\n",
       "r    auto       8\n",
       "     manual     6\n",
       "Name: trans, dtype: int64"
      ]
     },
     "execution_count": 167,
     "metadata": {},
     "output_type": "execute_result"
    }
   ],
   "source": [
    "train.groupby(train.drv).trans.value_counts()"
   ]
  },
  {
   "cell_type": "code",
   "execution_count": 168,
   "metadata": {},
   "outputs": [
    {
     "data": {
      "text/plain": [
       "class       trans \n",
       "2seater     manual     2\n",
       "compact     auto      14\n",
       "            manual    13\n",
       "midsize     auto      17\n",
       "            manual     9\n",
       "minivan     auto       7\n",
       "pickup      auto      14\n",
       "            manual     7\n",
       "subcompact  manual    13\n",
       "            auto      10\n",
       "suv         auto      32\n",
       "            manual     2\n",
       "Name: trans, dtype: int64"
      ]
     },
     "execution_count": 168,
     "metadata": {},
     "output_type": "execute_result"
    }
   ],
   "source": [
    "train.groupby(train['class']).trans.value_counts()"
   ]
  },
  {
   "cell_type": "code",
   "execution_count": 170,
   "metadata": {},
   "outputs": [
    {
     "data": {
      "text/plain": [
       "trans   class     \n",
       "auto    suv           32\n",
       "        midsize       17\n",
       "        compact       14\n",
       "        pickup        14\n",
       "        subcompact    10\n",
       "        minivan        7\n",
       "manual  compact       13\n",
       "        subcompact    13\n",
       "        midsize        9\n",
       "        pickup         7\n",
       "        2seater        2\n",
       "        suv            2\n",
       "Name: class, dtype: int64"
      ]
     },
     "execution_count": 170,
     "metadata": {},
     "output_type": "execute_result"
    }
   ],
   "source": [
    "train.groupby(train['trans'])['class'].value_counts()"
   ]
  },
  {
   "cell_type": "code",
   "execution_count": null,
   "metadata": {},
   "outputs": [],
   "source": []
  },
  {
   "cell_type": "code",
   "execution_count": 9,
   "metadata": {},
   "outputs": [],
   "source": [
    "X_train, y_train = X_y_split(train, 'trans')\n",
    "X_validate, y_validate = X_y_split(validate, 'trans')\n",
    "X_test, y_test = X_y_split(test, 'trans')\n"
   ]
  },
  {
   "cell_type": "code",
   "execution_count": 10,
   "metadata": {},
   "outputs": [],
   "source": [
    "# X_train"
   ]
  },
  {
   "cell_type": "code",
   "execution_count": 11,
   "metadata": {},
   "outputs": [
    {
     "data": {
      "text/plain": [
       "r    107\n",
       "p     25\n",
       "e      5\n",
       "d      2\n",
       "c      1\n",
       "Name: fl, dtype: int64"
      ]
     },
     "execution_count": 11,
     "metadata": {},
     "output_type": "execute_result"
    }
   ],
   "source": [
    "X_train.fl.value_counts()"
   ]
  },
  {
   "cell_type": "code",
   "execution_count": 12,
   "metadata": {},
   "outputs": [],
   "source": [
    "# sns.pairplot(train)"
   ]
  },
  {
   "cell_type": "code",
   "execution_count": 13,
   "metadata": {},
   "outputs": [],
   "source": [
    "# X_train = X_train.drop(columns=['manufacturer', 'model'])"
   ]
  },
  {
   "cell_type": "code",
   "execution_count": 14,
   "metadata": {},
   "outputs": [
    {
     "name": "stdout",
     "output_type": "stream",
     "text": [
      "<class 'pandas.core.frame.DataFrame'>\n",
      "Int64Index: 140 entries, 126 to 110\n",
      "Data columns (total 8 columns):\n",
      " #   Column  Non-Null Count  Dtype  \n",
      "---  ------  --------------  -----  \n",
      " 0   displ   140 non-null    float64\n",
      " 1   year    140 non-null    int64  \n",
      " 2   cyl     140 non-null    int64  \n",
      " 3   drv     140 non-null    object \n",
      " 4   cty     140 non-null    int64  \n",
      " 5   hwy     140 non-null    int64  \n",
      " 6   fl      140 non-null    object \n",
      " 7   class   140 non-null    object \n",
      "dtypes: float64(1), int64(4), object(3)\n",
      "memory usage: 9.8+ KB\n"
     ]
    }
   ],
   "source": [
    "X_train.info()"
   ]
  },
  {
   "cell_type": "code",
   "execution_count": 15,
   "metadata": {},
   "outputs": [],
   "source": [
    "# pd.get_dummies(X_train).head()"
   ]
  },
  {
   "cell_type": "code",
   "execution_count": 16,
   "metadata": {},
   "outputs": [],
   "source": [
    "# ['class', 'drv', 'fl']"
   ]
  },
  {
   "cell_type": "code",
   "execution_count": 15,
   "metadata": {},
   "outputs": [],
   "source": [
    "# X_train['class'].values.dtype"
   ]
  },
  {
   "cell_type": "code",
   "execution_count": 16,
   "metadata": {},
   "outputs": [],
   "source": [
    "# cols_list = []\n",
    "\n",
    "# for x in X_train:\n",
    "#     if X_train[x].values.dtype != 'O':\n",
    "#         continue\n",
    "#     else:\n",
    "#         cols_list.append(x)\n",
    "\n",
    "# cols_list"
   ]
  },
  {
   "cell_type": "code",
   "execution_count": 17,
   "metadata": {},
   "outputs": [],
   "source": [
    "# drops = []\n",
    "\n",
    "# for i in cols_list:\n",
    "#     drops.extend(X_train[i].value_counts()[-1:].index.to_list())\n",
    "\n",
    "# drops"
   ]
  },
  {
   "cell_type": "code",
   "execution_count": 18,
   "metadata": {},
   "outputs": [],
   "source": [
    "# drops = []\n",
    "\n",
    "# for x in X_train:\n",
    "#     if X_train[x].values.dtype != 'O':\n",
    "#         continue\n",
    "#     else:\n",
    "#         y = X_train[x].value_counts()[-1:].index.to_list()[0]\n",
    "#         # print(x,y)\n",
    "#         x = ''.join([x, '_', y])\n",
    "#         # print(x)\n",
    "#         drops.append(x)\n",
    "\n",
    "# drops"
   ]
  },
  {
   "cell_type": "code",
   "execution_count": 20,
   "metadata": {},
   "outputs": [],
   "source": [
    "# cols_list, '_', drops"
   ]
  },
  {
   "cell_type": "code",
   "execution_count": 21,
   "metadata": {},
   "outputs": [],
   "source": [
    "# X_train['class'].value_counts()"
   ]
  },
  {
   "cell_type": "code",
   "execution_count": 22,
   "metadata": {},
   "outputs": [],
   "source": [
    "# X_train.drv.value_counts()"
   ]
  },
  {
   "cell_type": "code",
   "execution_count": 23,
   "metadata": {},
   "outputs": [],
   "source": [
    "# X_train.fl.value_counts()[-1:].index.to_list()"
   ]
  },
  {
   "cell_type": "code",
   "execution_count": 24,
   "metadata": {},
   "outputs": [],
   "source": [
    "# drop_dummy_cols = ['fl_c', 'drv_r', 'class_2seater']"
   ]
  },
  {
   "cell_type": "code",
   "execution_count": 25,
   "metadata": {},
   "outputs": [],
   "source": [
    "# X_dum = pd.get_dummies(X_train).drop(columns=drop_dummy_cols)"
   ]
  },
  {
   "cell_type": "code",
   "execution_count": 17,
   "metadata": {},
   "outputs": [],
   "source": [
    "from wrangle import get_dummies\n",
    "\n",
    "# X_dum = get_dummies(X_train)"
   ]
  },
  {
   "cell_type": "code",
   "execution_count": 18,
   "metadata": {},
   "outputs": [
    {
     "name": "stdout",
     "output_type": "stream",
     "text": [
      "added column= 'fl_d' to test, full of zeros\n",
      "added column= 'fl_e' to test, full of zeros\n",
      "X_train (140, 17), X_validate (47, 17), X_test (47, 17)\n"
     ]
    }
   ],
   "source": [
    "X_train, X_validate, X_test = get_dummies(X_train, X_validate, X_test)\n",
    "# X_validate = get_dummies(X_validate)\n",
    "# X_test = get_dummies(X_test)\n"
   ]
  },
  {
   "cell_type": "code",
   "execution_count": 15,
   "metadata": {},
   "outputs": [],
   "source": [
    "# X_dum"
   ]
  },
  {
   "cell_type": "code",
   "execution_count": 19,
   "metadata": {},
   "outputs": [],
   "source": [
    "from wrangle import scale_data"
   ]
  },
  {
   "cell_type": "code",
   "execution_count": 20,
   "metadata": {},
   "outputs": [
    {
     "data": {
      "text/plain": [
       "((140, 17), (47, 17), (47, 17))"
      ]
     },
     "execution_count": 20,
     "metadata": {},
     "output_type": "execute_result"
    }
   ],
   "source": [
    "X_train.shape, X_validate.shape, X_test.shape"
   ]
  },
  {
   "cell_type": "code",
   "execution_count": 54,
   "metadata": {},
   "outputs": [],
   "source": [
    "# for x in X_train:\n",
    "#     # print(x)\n",
    "#     if x not in X_validate.columns:\n",
    "#         X_validate[x] = np.zeros(shape= len(X_validate))\n",
    "#         print(f'added column= \\'{x}\\' to validate, full of zeros')\n",
    "#     if x not in X_test.columns:\n",
    "#         X_test[x] = np.zeros(shape= len(X_test))\n",
    "#         print(f'added column= \\'{x}\\' to test, full of zeros')"
   ]
  },
  {
   "cell_type": "code",
   "execution_count": 57,
   "metadata": {},
   "outputs": [
    {
     "name": "stdout",
     "output_type": "stream",
     "text": [
      "class_2seater\n"
     ]
    }
   ],
   "source": [
    "# for x in X_test.columns:\n",
    "#     if x not in X_train.columns:\n",
    "#         print(x)"
   ]
  },
  {
   "cell_type": "code",
   "execution_count": 51,
   "metadata": {},
   "outputs": [
    {
     "data": {
      "text/plain": [
       "47"
      ]
     },
     "execution_count": 51,
     "metadata": {},
     "output_type": "execute_result"
    }
   ],
   "source": [
    "# len(X_test)"
   ]
  },
  {
   "cell_type": "code",
   "execution_count": 52,
   "metadata": {},
   "outputs": [
    {
     "data": {
      "text/plain": [
       "array([0., 0., 0., 0., 0., 0., 0., 0., 0., 0., 0., 0., 0., 0., 0., 0., 0.,\n",
       "       0., 0., 0., 0., 0., 0., 0., 0., 0., 0., 0., 0., 0., 0., 0., 0., 0.,\n",
       "       0., 0., 0., 0., 0., 0., 0., 0., 0., 0., 0., 0., 0.])"
      ]
     },
     "execution_count": 52,
     "metadata": {},
     "output_type": "execute_result"
    }
   ],
   "source": [
    "# np.zeros(shape= len(X_validate))"
   ]
  },
  {
   "cell_type": "code",
   "execution_count": 60,
   "metadata": {},
   "outputs": [
    {
     "data": {
      "text/plain": [
       "suv           34\n",
       "compact       27\n",
       "midsize       26\n",
       "subcompact    23\n",
       "pickup        21\n",
       "minivan        7\n",
       "2seater        2\n",
       "Name: class, dtype: int64"
      ]
     },
     "execution_count": 60,
     "metadata": {},
     "output_type": "execute_result"
    }
   ],
   "source": [
    "# train['class'].value_counts(dropna= False)"
   ]
  },
  {
   "cell_type": "code",
   "execution_count": 58,
   "metadata": {},
   "outputs": [
    {
     "name": "stdout",
     "output_type": "stream",
     "text": [
      "<class 'pandas.core.frame.DataFrame'>\n",
      "Int64Index: 140 entries, 126 to 110\n",
      "Data columns (total 17 columns):\n",
      " #   Column            Non-Null Count  Dtype  \n",
      "---  ------            --------------  -----  \n",
      " 0   displ             140 non-null    float64\n",
      " 1   year              140 non-null    int64  \n",
      " 2   cyl               140 non-null    int64  \n",
      " 3   cty               140 non-null    int64  \n",
      " 4   hwy               140 non-null    int64  \n",
      " 5   drv_4             140 non-null    uint8  \n",
      " 6   drv_f             140 non-null    uint8  \n",
      " 7   fl_d              140 non-null    uint8  \n",
      " 8   fl_e              140 non-null    uint8  \n",
      " 9   fl_p              140 non-null    uint8  \n",
      " 10  fl_r              140 non-null    uint8  \n",
      " 11  class_compact     140 non-null    uint8  \n",
      " 12  class_midsize     140 non-null    uint8  \n",
      " 13  class_minivan     140 non-null    uint8  \n",
      " 14  class_pickup      140 non-null    uint8  \n",
      " 15  class_subcompact  140 non-null    uint8  \n",
      " 16  class_suv         140 non-null    uint8  \n",
      "dtypes: float64(1), int64(4), uint8(12)\n",
      "memory usage: 12.3 KB\n"
     ]
    }
   ],
   "source": [
    "# X_train.info()"
   ]
  },
  {
   "cell_type": "code",
   "execution_count": 61,
   "metadata": {},
   "outputs": [
    {
     "name": "stdout",
     "output_type": "stream",
     "text": [
      "<class 'pandas.core.frame.DataFrame'>\n",
      "Int64Index: 47 entries, 87 to 137\n",
      "Data columns (total 18 columns):\n",
      " #   Column            Non-Null Count  Dtype  \n",
      "---  ------            --------------  -----  \n",
      " 0   displ             47 non-null     float64\n",
      " 1   year              47 non-null     int64  \n",
      " 2   cyl               47 non-null     int64  \n",
      " 3   cty               47 non-null     int64  \n",
      " 4   hwy               47 non-null     int64  \n",
      " 5   drv_4             47 non-null     uint8  \n",
      " 6   drv_f             47 non-null     uint8  \n",
      " 7   fl_r              47 non-null     uint8  \n",
      " 8   class_2seater     47 non-null     uint8  \n",
      " 9   class_compact     47 non-null     uint8  \n",
      " 10  class_midsize     47 non-null     uint8  \n",
      " 11  class_pickup      47 non-null     uint8  \n",
      " 12  class_subcompact  47 non-null     uint8  \n",
      " 13  class_suv         47 non-null     uint8  \n",
      " 14  fl_d              47 non-null     float64\n",
      " 15  fl_e              47 non-null     float64\n",
      " 16  fl_p              47 non-null     float64\n",
      " 17  class_minivan     47 non-null     float64\n",
      "dtypes: float64(5), int64(4), uint8(9)\n",
      "memory usage: 4.1 KB\n"
     ]
    }
   ],
   "source": [
    "# X_test.info()"
   ]
  },
  {
   "cell_type": "code",
   "execution_count": 46,
   "metadata": {},
   "outputs": [
    {
     "name": "stdout",
     "output_type": "stream",
     "text": [
      "<class 'pandas.core.frame.DataFrame'>\n",
      "Int64Index: 47 entries, 57 to 64\n",
      "Data columns (total 16 columns):\n",
      " #   Column            Non-Null Count  Dtype  \n",
      "---  ------            --------------  -----  \n",
      " 0   displ             47 non-null     float64\n",
      " 1   year              47 non-null     int64  \n",
      " 2   cyl               47 non-null     int64  \n",
      " 3   cty               47 non-null     int64  \n",
      " 4   hwy               47 non-null     int64  \n",
      " 5   drv_4             47 non-null     uint8  \n",
      " 6   drv_f             47 non-null     uint8  \n",
      " 7   fl_d              47 non-null     uint8  \n",
      " 8   fl_p              47 non-null     uint8  \n",
      " 9   fl_r              47 non-null     uint8  \n",
      " 10  class_compact     47 non-null     uint8  \n",
      " 11  class_midsize     47 non-null     uint8  \n",
      " 12  class_minivan     47 non-null     uint8  \n",
      " 13  class_pickup      47 non-null     uint8  \n",
      " 14  class_subcompact  47 non-null     uint8  \n",
      " 15  class_suv         47 non-null     uint8  \n",
      "dtypes: float64(1), int64(4), uint8(11)\n",
      "memory usage: 2.7 KB\n"
     ]
    }
   ],
   "source": [
    "# X_validate.info()"
   ]
  },
  {
   "cell_type": "code",
   "execution_count": 21,
   "metadata": {},
   "outputs": [
    {
     "name": "stderr",
     "output_type": "stream",
     "text": [
      "/opt/homebrew/anaconda3/lib/python3.9/site-packages/sklearn/base.py:493: FutureWarning: The feature names should match those that were passed during fit. Starting version 1.2, an error will be raised.\n",
      "Feature names must be in the same order as they were in fit.\n",
      "\n",
      "  warnings.warn(message, FutureWarning)\n"
     ]
    }
   ],
   "source": [
    "X_train, X_validate, X_test = scale_data(X_train, X_validate, X_test)"
   ]
  },
  {
   "cell_type": "code",
   "execution_count": 22,
   "metadata": {},
   "outputs": [
    {
     "data": {
      "text/html": [
       "<div>\n",
       "<style scoped>\n",
       "    .dataframe tbody tr th:only-of-type {\n",
       "        vertical-align: middle;\n",
       "    }\n",
       "\n",
       "    .dataframe tbody tr th {\n",
       "        vertical-align: top;\n",
       "    }\n",
       "\n",
       "    .dataframe thead th {\n",
       "        text-align: right;\n",
       "    }\n",
       "</style>\n",
       "<table border=\"1\" class=\"dataframe\">\n",
       "  <thead>\n",
       "    <tr style=\"text-align: right;\">\n",
       "      <th></th>\n",
       "      <th>displ</th>\n",
       "      <th>year</th>\n",
       "      <th>cyl</th>\n",
       "      <th>cty</th>\n",
       "      <th>hwy</th>\n",
       "      <th>drv_4</th>\n",
       "      <th>drv_f</th>\n",
       "      <th>fl_d</th>\n",
       "      <th>fl_e</th>\n",
       "      <th>fl_p</th>\n",
       "      <th>fl_r</th>\n",
       "      <th>class_compact</th>\n",
       "      <th>class_midsize</th>\n",
       "      <th>class_minivan</th>\n",
       "      <th>class_pickup</th>\n",
       "      <th>class_subcompact</th>\n",
       "      <th>class_suv</th>\n",
       "    </tr>\n",
       "  </thead>\n",
       "  <tbody>\n",
       "    <tr>\n",
       "      <th>126</th>\n",
       "      <td>0.574074</td>\n",
       "      <td>0.0</td>\n",
       "      <td>1.0</td>\n",
       "      <td>0.208333</td>\n",
       "      <td>0.15625</td>\n",
       "      <td>1.0</td>\n",
       "      <td>0.0</td>\n",
       "      <td>0.0</td>\n",
       "      <td>0.0</td>\n",
       "      <td>0.0</td>\n",
       "      <td>1.0</td>\n",
       "      <td>0.0</td>\n",
       "      <td>0.0</td>\n",
       "      <td>0.0</td>\n",
       "      <td>0.0</td>\n",
       "      <td>0.0</td>\n",
       "      <td>1.0</td>\n",
       "    </tr>\n",
       "    <tr>\n",
       "      <th>104</th>\n",
       "      <td>0.000000</td>\n",
       "      <td>0.0</td>\n",
       "      <td>0.0</td>\n",
       "      <td>0.625000</td>\n",
       "      <td>0.62500</td>\n",
       "      <td>0.0</td>\n",
       "      <td>1.0</td>\n",
       "      <td>0.0</td>\n",
       "      <td>0.0</td>\n",
       "      <td>0.0</td>\n",
       "      <td>1.0</td>\n",
       "      <td>0.0</td>\n",
       "      <td>0.0</td>\n",
       "      <td>0.0</td>\n",
       "      <td>0.0</td>\n",
       "      <td>1.0</td>\n",
       "      <td>0.0</td>\n",
       "    </tr>\n",
       "    <tr>\n",
       "      <th>28</th>\n",
       "      <td>1.000000</td>\n",
       "      <td>1.0</td>\n",
       "      <td>1.0</td>\n",
       "      <td>0.250000</td>\n",
       "      <td>0.37500</td>\n",
       "      <td>0.0</td>\n",
       "      <td>0.0</td>\n",
       "      <td>0.0</td>\n",
       "      <td>0.0</td>\n",
       "      <td>1.0</td>\n",
       "      <td>0.0</td>\n",
       "      <td>0.0</td>\n",
       "      <td>0.0</td>\n",
       "      <td>0.0</td>\n",
       "      <td>0.0</td>\n",
       "      <td>0.0</td>\n",
       "      <td>0.0</td>\n",
       "    </tr>\n",
       "    <tr>\n",
       "      <th>172</th>\n",
       "      <td>0.166667</td>\n",
       "      <td>1.0</td>\n",
       "      <td>0.0</td>\n",
       "      <td>0.416667</td>\n",
       "      <td>0.40625</td>\n",
       "      <td>1.0</td>\n",
       "      <td>0.0</td>\n",
       "      <td>0.0</td>\n",
       "      <td>0.0</td>\n",
       "      <td>1.0</td>\n",
       "      <td>0.0</td>\n",
       "      <td>1.0</td>\n",
       "      <td>0.0</td>\n",
       "      <td>0.0</td>\n",
       "      <td>0.0</td>\n",
       "      <td>0.0</td>\n",
       "      <td>0.0</td>\n",
       "    </tr>\n",
       "    <tr>\n",
       "      <th>198</th>\n",
       "      <td>0.037037</td>\n",
       "      <td>1.0</td>\n",
       "      <td>0.0</td>\n",
       "      <td>0.708333</td>\n",
       "      <td>0.71875</td>\n",
       "      <td>0.0</td>\n",
       "      <td>1.0</td>\n",
       "      <td>0.0</td>\n",
       "      <td>0.0</td>\n",
       "      <td>0.0</td>\n",
       "      <td>1.0</td>\n",
       "      <td>1.0</td>\n",
       "      <td>0.0</td>\n",
       "      <td>0.0</td>\n",
       "      <td>0.0</td>\n",
       "      <td>0.0</td>\n",
       "      <td>0.0</td>\n",
       "    </tr>\n",
       "  </tbody>\n",
       "</table>\n",
       "</div>"
      ],
      "text/plain": [
       "        displ  year  cyl       cty      hwy  drv_4  drv_f  fl_d  fl_e  fl_p  \\\n",
       "126  0.574074   0.0  1.0  0.208333  0.15625    1.0    0.0   0.0   0.0   0.0   \n",
       "104  0.000000   0.0  0.0  0.625000  0.62500    0.0    1.0   0.0   0.0   0.0   \n",
       "28   1.000000   1.0  1.0  0.250000  0.37500    0.0    0.0   0.0   0.0   1.0   \n",
       "172  0.166667   1.0  0.0  0.416667  0.40625    1.0    0.0   0.0   0.0   1.0   \n",
       "198  0.037037   1.0  0.0  0.708333  0.71875    0.0    1.0   0.0   0.0   0.0   \n",
       "\n",
       "     fl_r  class_compact  class_midsize  class_minivan  class_pickup  \\\n",
       "126   1.0            0.0            0.0            0.0           0.0   \n",
       "104   1.0            0.0            0.0            0.0           0.0   \n",
       "28    0.0            0.0            0.0            0.0           0.0   \n",
       "172   0.0            1.0            0.0            0.0           0.0   \n",
       "198   1.0            1.0            0.0            0.0           0.0   \n",
       "\n",
       "     class_subcompact  class_suv  \n",
       "126               0.0        1.0  \n",
       "104               1.0        0.0  \n",
       "28                0.0        0.0  \n",
       "172               0.0        0.0  \n",
       "198               0.0        0.0  "
      ]
     },
     "execution_count": 22,
     "metadata": {},
     "output_type": "execute_result"
    }
   ],
   "source": [
    "X_train.head()"
   ]
  },
  {
   "cell_type": "code",
   "execution_count": 30,
   "metadata": {},
   "outputs": [],
   "source": [
    "tree = DecisionTreeClassifier(max_depth=5, random_state= 617)"
   ]
  },
  {
   "cell_type": "code",
   "execution_count": 31,
   "metadata": {},
   "outputs": [
    {
     "data": {
      "text/plain": [
       "DecisionTreeClassifier(max_depth=5, random_state=617)"
      ]
     },
     "execution_count": 31,
     "metadata": {},
     "output_type": "execute_result"
    }
   ],
   "source": [
    "tree.fit(X_train, y_train)"
   ]
  },
  {
   "cell_type": "code",
   "execution_count": 32,
   "metadata": {},
   "outputs": [
    {
     "data": {
      "text/plain": [
       "0.7428571428571429"
      ]
     },
     "execution_count": 32,
     "metadata": {},
     "output_type": "execute_result"
    }
   ],
   "source": [
    "tree.score(X_train, y_train)\n"
   ]
  },
  {
   "cell_type": "code",
   "execution_count": 33,
   "metadata": {},
   "outputs": [
    {
     "data": {
      "text/plain": [
       "0.5957446808510638"
      ]
     },
     "execution_count": 33,
     "metadata": {},
     "output_type": "execute_result"
    }
   ],
   "source": [
    "\n",
    "tree.score(X_validate, y_validate)\n"
   ]
  },
  {
   "cell_type": "code",
   "execution_count": 34,
   "metadata": {},
   "outputs": [
    {
     "data": {
      "text/plain": [
       "0.6595744680851063"
      ]
     },
     "execution_count": 34,
     "metadata": {},
     "output_type": "execute_result"
    }
   ],
   "source": [
    "tree.score(X_test, y_test)\n"
   ]
  },
  {
   "cell_type": "code",
   "execution_count": 35,
   "metadata": {},
   "outputs": [
    {
     "data": {
      "text/plain": [
       "array([0.53571429, 0.64285714, 0.53571429, 0.64285714, 0.64285714])"
      ]
     },
     "execution_count": 35,
     "metadata": {},
     "output_type": "execute_result"
    }
   ],
   "source": [
    "from sklearn.model_selection import cross_val_score\n",
    "\n",
    "\n",
    "cross_val_score(tree, X_train, y_train, cv=5)"
   ]
  },
  {
   "cell_type": "code",
   "execution_count": 36,
   "metadata": {},
   "outputs": [
    {
     "data": {
      "text/plain": [
       "0.5285714285714286"
      ]
     },
     "execution_count": 36,
     "metadata": {},
     "output_type": "execute_result"
    }
   ],
   "source": [
    "cross_val_score(tree, X_train, y_train, cv=7,).mean()"
   ]
  },
  {
   "cell_type": "code",
   "execution_count": 37,
   "metadata": {},
   "outputs": [
    {
     "data": {
      "image/png": "[encoded data removed]",
      "text/plain": [
       "<Figure size 432x288 with 1 Axes>"
      ]
     },
     "metadata": {
      "needs_background": "light"
     },
     "output_type": "display_data"
    }
   ],
   "source": [
    "results = []\n",
    "\n",
    "for x in range(1,21):\n",
    "    tree = DecisionTreeClassifier(max_depth=x, random_state=123)\n",
    "    score = cross_val_score(tree, X_train, y_train, cv=5).mean()\n",
    "    results.append([x, score])\n",
    "    \n",
    "pd.DataFrame(results, columns = ['max_depth','accuracy'])\\\n",
    ".set_index('max_depth').plot(xticks=range(1,21))\n",
    "plt.title('accuracy vs max_depth in decision tree')\n",
    "plt.show()"
   ]
  },
  {
   "cell_type": "code",
   "execution_count": 38,
   "metadata": {},
   "outputs": [],
   "source": [
    "knn = KNeighborsClassifier()"
   ]
  },
  {
   "cell_type": "code",
   "execution_count": null,
   "metadata": {},
   "outputs": [],
   "source": []
  },
  {
   "cell_type": "code",
   "execution_count": 87,
   "metadata": {},
   "outputs": [
    {
     "data": {
      "text/plain": [
       "{'n_neighbors': range(1, 21), 'p': [1, 2], 'n_jobs': [-1, 1]}"
      ]
     },
     "execution_count": 87,
     "metadata": {},
     "output_type": "execute_result"
    }
   ],
   "source": [
    "params = {'n_neighbors': range(1,21),\n",
    "          'p': [1,2],\n",
    "          'n_jobs': [-1, 1]\n",
    "}\n",
    "params"
   ]
  },
  {
   "cell_type": "code",
   "execution_count": null,
   "metadata": {},
   "outputs": [],
   "source": []
  },
  {
   "cell_type": "code",
   "execution_count": 88,
   "metadata": {},
   "outputs": [],
   "source": [
    "grid = GridSearchCV(knn, param_grid=params, cv=5, n_jobs= -1)"
   ]
  },
  {
   "cell_type": "code",
   "execution_count": 89,
   "metadata": {},
   "outputs": [
    {
     "data": {
      "text/plain": [
       "GridSearchCV(cv=5, estimator=KNeighborsClassifier(), n_jobs=-1,\n",
       "             param_grid={'n_jobs': [-1, 1], 'n_neighbors': range(1, 21),\n",
       "                         'p': [1, 2]})"
      ]
     },
     "execution_count": 89,
     "metadata": {},
     "output_type": "execute_result"
    }
   ],
   "source": [
    "grid.fit(X_train, y_train)"
   ]
  },
  {
   "cell_type": "code",
   "execution_count": 90,
   "metadata": {},
   "outputs": [
    {
     "data": {
      "text/plain": [
       "array([0.55      , 0.55714286, 0.62142857, 0.62142857, 0.56428571,\n",
       "       0.56428571, 0.59285714, 0.59285714, 0.57857143, 0.56428571,\n",
       "       0.57142857, 0.57142857, 0.57142857, 0.56428571, 0.6       ,\n",
       "       0.6       , 0.58571429, 0.59285714, 0.61428571, 0.61428571,\n",
       "       0.61428571, 0.61428571, 0.62857143, 0.62142857, 0.63571429,\n",
       "       0.65714286, 0.62857143, 0.64285714, 0.65      , 0.64285714,\n",
       "       0.62142857, 0.61428571, 0.65714286, 0.65      , 0.64285714,\n",
       "       0.61428571, 0.65      , 0.63571429, 0.62857143, 0.62857143,\n",
       "       0.55      , 0.55714286, 0.62142857, 0.62142857, 0.56428571,\n",
       "       0.56428571, 0.59285714, 0.59285714, 0.57857143, 0.56428571,\n",
       "       0.57142857, 0.57142857, 0.57142857, 0.56428571, 0.6       ,\n",
       "       0.6       , 0.58571429, 0.59285714, 0.61428571, 0.61428571,\n",
       "       0.61428571, 0.61428571, 0.62857143, 0.62142857, 0.63571429,\n",
       "       0.65714286, 0.62857143, 0.64285714, 0.65      , 0.64285714,\n",
       "       0.62142857, 0.61428571, 0.65714286, 0.65      , 0.64285714,\n",
       "       0.61428571, 0.65      , 0.63571429, 0.62857143, 0.62857143])"
      ]
     },
     "execution_count": 90,
     "metadata": {},
     "output_type": "execute_result"
    }
   ],
   "source": [
    "grid.cv_results_['mean_test_score']"
   ]
  },
  {
   "cell_type": "code",
   "execution_count": 91,
   "metadata": {},
   "outputs": [
    {
     "data": {
      "text/plain": [
       "KNeighborsClassifier(n_jobs=-1, n_neighbors=13)"
      ]
     },
     "execution_count": 91,
     "metadata": {},
     "output_type": "execute_result"
    }
   ],
   "source": [
    "grid.best_estimator_"
   ]
  },
  {
   "cell_type": "code",
   "execution_count": 92,
   "metadata": {},
   "outputs": [
    {
     "data": {
      "text/plain": [
       "0.6571428571428573"
      ]
     },
     "execution_count": 92,
     "metadata": {},
     "output_type": "execute_result"
    }
   ],
   "source": [
    "grid.best_score_"
   ]
  },
  {
   "cell_type": "code",
   "execution_count": 93,
   "metadata": {},
   "outputs": [
    {
     "data": {
      "text/plain": [
       "{'n_jobs': -1, 'n_neighbors': 13, 'p': 2}"
      ]
     },
     "execution_count": 93,
     "metadata": {},
     "output_type": "execute_result"
    }
   ],
   "source": [
    "grid.best_params_"
   ]
  },
  {
   "cell_type": "code",
   "execution_count": 94,
   "metadata": {},
   "outputs": [
    {
     "data": {
      "text/plain": [
       "array([0.00138159, 0.00198092, 0.00091624, 0.00097013, 0.00085626,\n",
       "       0.00082941, 0.00121264, 0.00086713, 0.00077534, 0.0007884 ,\n",
       "       0.00077209, 0.00075755, 0.00100946, 0.00076342, 0.00081553,\n",
       "       0.00085897, 0.00120473, 0.00089459, 0.00090275, 0.00076885,\n",
       "       0.00077486, 0.00077128, 0.00078373, 0.00079522, 0.0007637 ,\n",
       "       0.00082612, 0.00081267, 0.00079546, 0.00076346, 0.00077877,\n",
       "       0.00076036, 0.00078077, 0.00089698, 0.00080252, 0.00153379,\n",
       "       0.00121851, 0.00078287, 0.00103674, 0.00125461, 0.00079217,\n",
       "       0.00279388, 0.00118904, 0.00072222, 0.00063486, 0.00086908,\n",
       "       0.00075488, 0.00060277, 0.000629  , 0.00059204, 0.00185289,\n",
       "       0.00053978, 0.00060539, 0.00060277, 0.0005476 , 0.00117321,\n",
       "       0.00053577, 0.00064611, 0.00079489, 0.00054154, 0.00052762,\n",
       "       0.00180154, 0.00071287, 0.00107017, 0.00054278, 0.000563  ,\n",
       "       0.00052547, 0.0017107 , 0.00059576, 0.0012042 , 0.00055208,\n",
       "       0.00120478, 0.00055046, 0.00109081, 0.00118523, 0.00058398,\n",
       "       0.0008626 , 0.00107484, 0.00083213, 0.00053763, 0.00085855])"
      ]
     },
     "execution_count": 94,
     "metadata": {},
     "output_type": "execute_result"
    }
   ],
   "source": [
    "grid.cv_results_['mean_fit_time']"
   ]
  },
  {
   "cell_type": "code",
   "execution_count": 95,
   "metadata": {},
   "outputs": [
    {
     "data": {
      "text/plain": [
       "0.6595744680851063"
      ]
     },
     "execution_count": 95,
     "metadata": {},
     "output_type": "execute_result"
    }
   ],
   "source": [
    "grid.best_estimator_.fit(X_train, y_train).score(X_validate, y_validate)"
   ]
  },
  {
   "cell_type": "code",
   "execution_count": 96,
   "metadata": {},
   "outputs": [
    {
     "data": {
      "text/plain": [
       "dict_keys(['mean_fit_time', 'std_fit_time', 'mean_score_time', 'std_score_time', 'param_n_jobs', 'param_n_neighbors', 'param_p', 'params', 'split0_test_score', 'split1_test_score', 'split2_test_score', 'split3_test_score', 'split4_test_score', 'mean_test_score', 'std_test_score', 'rank_test_score'])"
      ]
     },
     "execution_count": 96,
     "metadata": {},
     "output_type": "execute_result"
    }
   ],
   "source": [
    "grid.cv_results_.keys()"
   ]
  },
  {
   "cell_type": "code",
   "execution_count": 97,
   "metadata": {},
   "outputs": [
    {
     "data": {
      "text/plain": [
       "array([79, 77, 29, 29, 69, 69, 55, 53, 61, 69, 63, 63, 63, 69, 49, 49, 59,\n",
       "       55, 37, 45, 37, 45, 21, 35, 17,  1, 23, 11,  5, 11, 29, 37,  1,  5,\n",
       "       11, 37,  9, 17, 23, 23, 79, 77, 29, 29, 69, 69, 55, 53, 61, 69, 63,\n",
       "       63, 63, 69, 49, 49, 59, 55, 37, 45, 37, 45, 21, 35, 17,  1, 23, 11,\n",
       "        5, 11, 29, 37,  1,  5, 11, 37,  9, 17, 23, 23], dtype=int32)"
      ]
     },
     "execution_count": 97,
     "metadata": {},
     "output_type": "execute_result"
    }
   ],
   "source": [
    "grid.cv_results_['rank_test_score']"
   ]
  },
  {
   "cell_type": "code",
   "execution_count": 98,
   "metadata": {},
   "outputs": [
    {
     "data": {
      "text/plain": [
       "[({'n_jobs': -1, 'n_neighbors': 1, 'p': 1}, 0.55),\n",
       " ({'n_jobs': -1, 'n_neighbors': 1, 'p': 2}, 0.5571428571428572),\n",
       " ({'n_jobs': -1, 'n_neighbors': 2, 'p': 1}, 0.6214285714285714),\n",
       " ({'n_jobs': -1, 'n_neighbors': 2, 'p': 2}, 0.6214285714285714),\n",
       " ({'n_jobs': -1, 'n_neighbors': 3, 'p': 1}, 0.5642857142857143),\n",
       " ({'n_jobs': -1, 'n_neighbors': 3, 'p': 2}, 0.5642857142857143),\n",
       " ({'n_jobs': -1, 'n_neighbors': 4, 'p': 1}, 0.5928571428571427),\n",
       " ({'n_jobs': -1, 'n_neighbors': 4, 'p': 2}, 0.5928571428571429),\n",
       " ({'n_jobs': -1, 'n_neighbors': 5, 'p': 1}, 0.5785714285714286),\n",
       " ({'n_jobs': -1, 'n_neighbors': 5, 'p': 2}, 0.5642857142857143),\n",
       " ({'n_jobs': -1, 'n_neighbors': 6, 'p': 1}, 0.5714285714285714),\n",
       " ({'n_jobs': -1, 'n_neighbors': 6, 'p': 2}, 0.5714285714285714),\n",
       " ({'n_jobs': -1, 'n_neighbors': 7, 'p': 1}, 0.5714285714285714),\n",
       " ({'n_jobs': -1, 'n_neighbors': 7, 'p': 2}, 0.5642857142857143),\n",
       " ({'n_jobs': -1, 'n_neighbors': 8, 'p': 1}, 0.6),\n",
       " ({'n_jobs': -1, 'n_neighbors': 8, 'p': 2}, 0.6),\n",
       " ({'n_jobs': -1, 'n_neighbors': 9, 'p': 1}, 0.5857142857142857),\n",
       " ({'n_jobs': -1, 'n_neighbors': 9, 'p': 2}, 0.5928571428571427),\n",
       " ({'n_jobs': -1, 'n_neighbors': 10, 'p': 1}, 0.6142857142857143),\n",
       " ({'n_jobs': -1, 'n_neighbors': 10, 'p': 2}, 0.6142857142857142),\n",
       " ({'n_jobs': -1, 'n_neighbors': 11, 'p': 1}, 0.6142857142857143),\n",
       " ({'n_jobs': -1, 'n_neighbors': 11, 'p': 2}, 0.6142857142857142),\n",
       " ({'n_jobs': -1, 'n_neighbors': 12, 'p': 1}, 0.6285714285714287),\n",
       " ({'n_jobs': -1, 'n_neighbors': 12, 'p': 2}, 0.6214285714285713),\n",
       " ({'n_jobs': -1, 'n_neighbors': 13, 'p': 1}, 0.6357142857142858),\n",
       " ({'n_jobs': -1, 'n_neighbors': 13, 'p': 2}, 0.6571428571428573),\n",
       " ({'n_jobs': -1, 'n_neighbors': 14, 'p': 1}, 0.6285714285714286),\n",
       " ({'n_jobs': -1, 'n_neighbors': 14, 'p': 2}, 0.6428571428571429),\n",
       " ({'n_jobs': -1, 'n_neighbors': 15, 'p': 1}, 0.6500000000000001),\n",
       " ({'n_jobs': -1, 'n_neighbors': 15, 'p': 2}, 0.6428571428571429),\n",
       " ({'n_jobs': -1, 'n_neighbors': 16, 'p': 1}, 0.6214285714285714),\n",
       " ({'n_jobs': -1, 'n_neighbors': 16, 'p': 2}, 0.6142857142857143),\n",
       " ({'n_jobs': -1, 'n_neighbors': 17, 'p': 1}, 0.6571428571428573),\n",
       " ({'n_jobs': -1, 'n_neighbors': 17, 'p': 2}, 0.6500000000000001),\n",
       " ({'n_jobs': -1, 'n_neighbors': 18, 'p': 1}, 0.6428571428571429),\n",
       " ({'n_jobs': -1, 'n_neighbors': 18, 'p': 2}, 0.6142857142857143),\n",
       " ({'n_jobs': -1, 'n_neighbors': 19, 'p': 1}, 0.65),\n",
       " ({'n_jobs': -1, 'n_neighbors': 19, 'p': 2}, 0.6357142857142858),\n",
       " ({'n_jobs': -1, 'n_neighbors': 20, 'p': 1}, 0.6285714285714286),\n",
       " ({'n_jobs': -1, 'n_neighbors': 20, 'p': 2}, 0.6285714285714286),\n",
       " ({'n_jobs': 1, 'n_neighbors': 1, 'p': 1}, 0.55),\n",
       " ({'n_jobs': 1, 'n_neighbors': 1, 'p': 2}, 0.5571428571428572),\n",
       " ({'n_jobs': 1, 'n_neighbors': 2, 'p': 1}, 0.6214285714285714),\n",
       " ({'n_jobs': 1, 'n_neighbors': 2, 'p': 2}, 0.6214285714285714),\n",
       " ({'n_jobs': 1, 'n_neighbors': 3, 'p': 1}, 0.5642857142857143),\n",
       " ({'n_jobs': 1, 'n_neighbors': 3, 'p': 2}, 0.5642857142857143),\n",
       " ({'n_jobs': 1, 'n_neighbors': 4, 'p': 1}, 0.5928571428571427),\n",
       " ({'n_jobs': 1, 'n_neighbors': 4, 'p': 2}, 0.5928571428571429),\n",
       " ({'n_jobs': 1, 'n_neighbors': 5, 'p': 1}, 0.5785714285714286),\n",
       " ({'n_jobs': 1, 'n_neighbors': 5, 'p': 2}, 0.5642857142857143),\n",
       " ({'n_jobs': 1, 'n_neighbors': 6, 'p': 1}, 0.5714285714285714),\n",
       " ({'n_jobs': 1, 'n_neighbors': 6, 'p': 2}, 0.5714285714285714),\n",
       " ({'n_jobs': 1, 'n_neighbors': 7, 'p': 1}, 0.5714285714285714),\n",
       " ({'n_jobs': 1, 'n_neighbors': 7, 'p': 2}, 0.5642857142857143),\n",
       " ({'n_jobs': 1, 'n_neighbors': 8, 'p': 1}, 0.6),\n",
       " ({'n_jobs': 1, 'n_neighbors': 8, 'p': 2}, 0.6),\n",
       " ({'n_jobs': 1, 'n_neighbors': 9, 'p': 1}, 0.5857142857142857),\n",
       " ({'n_jobs': 1, 'n_neighbors': 9, 'p': 2}, 0.5928571428571427),\n",
       " ({'n_jobs': 1, 'n_neighbors': 10, 'p': 1}, 0.6142857142857143),\n",
       " ({'n_jobs': 1, 'n_neighbors': 10, 'p': 2}, 0.6142857142857142),\n",
       " ({'n_jobs': 1, 'n_neighbors': 11, 'p': 1}, 0.6142857142857143),\n",
       " ({'n_jobs': 1, 'n_neighbors': 11, 'p': 2}, 0.6142857142857142),\n",
       " ({'n_jobs': 1, 'n_neighbors': 12, 'p': 1}, 0.6285714285714287),\n",
       " ({'n_jobs': 1, 'n_neighbors': 12, 'p': 2}, 0.6214285714285713),\n",
       " ({'n_jobs': 1, 'n_neighbors': 13, 'p': 1}, 0.6357142857142858),\n",
       " ({'n_jobs': 1, 'n_neighbors': 13, 'p': 2}, 0.6571428571428573),\n",
       " ({'n_jobs': 1, 'n_neighbors': 14, 'p': 1}, 0.6285714285714286),\n",
       " ({'n_jobs': 1, 'n_neighbors': 14, 'p': 2}, 0.6428571428571429),\n",
       " ({'n_jobs': 1, 'n_neighbors': 15, 'p': 1}, 0.6500000000000001),\n",
       " ({'n_jobs': 1, 'n_neighbors': 15, 'p': 2}, 0.6428571428571429),\n",
       " ({'n_jobs': 1, 'n_neighbors': 16, 'p': 1}, 0.6214285714285714),\n",
       " ({'n_jobs': 1, 'n_neighbors': 16, 'p': 2}, 0.6142857142857143),\n",
       " ({'n_jobs': 1, 'n_neighbors': 17, 'p': 1}, 0.6571428571428573),\n",
       " ({'n_jobs': 1, 'n_neighbors': 17, 'p': 2}, 0.6500000000000001),\n",
       " ({'n_jobs': 1, 'n_neighbors': 18, 'p': 1}, 0.6428571428571429),\n",
       " ({'n_jobs': 1, 'n_neighbors': 18, 'p': 2}, 0.6142857142857143),\n",
       " ({'n_jobs': 1, 'n_neighbors': 19, 'p': 1}, 0.65),\n",
       " ({'n_jobs': 1, 'n_neighbors': 19, 'p': 2}, 0.6357142857142858),\n",
       " ({'n_jobs': 1, 'n_neighbors': 20, 'p': 1}, 0.6285714285714286),\n",
       " ({'n_jobs': 1, 'n_neighbors': 20, 'p': 2}, 0.6285714285714286)]"
      ]
     },
     "execution_count": 98,
     "metadata": {},
     "output_type": "execute_result"
    }
   ],
   "source": [
    "list(zip(grid.cv_results_['params'], grid.cv_results_['mean_test_score']))"
   ]
  },
  {
   "cell_type": "code",
   "execution_count": 101,
   "metadata": {},
   "outputs": [],
   "source": [
    "for param, score in zip(grid.cv_results_['params'], \n",
    "                         grid.cv_results_['mean_test_score']):\n",
    "        param['score'] = score\n"
   ]
  },
  {
   "cell_type": "code",
   "execution_count": 102,
   "metadata": {},
   "outputs": [
    {
     "data": {
      "text/plain": [
       "dict_keys(['n_neighbors', 'p', 'n_jobs'])"
      ]
     },
     "execution_count": 102,
     "metadata": {},
     "output_type": "execute_result"
    }
   ],
   "source": [
    "params.keys()"
   ]
  },
  {
   "cell_type": "code",
   "execution_count": 103,
   "metadata": {},
   "outputs": [
    {
     "data": {
      "text/plain": [
       "{'n_jobs': 1, 'n_neighbors': 20, 'p': 2, 'score': 0.6285714285714286}"
      ]
     },
     "execution_count": 103,
     "metadata": {},
     "output_type": "execute_result"
    }
   ],
   "source": [
    "param"
   ]
  },
  {
   "cell_type": "code",
   "execution_count": 104,
   "metadata": {},
   "outputs": [
    {
     "data": {
      "text/html": [
       "<div>\n",
       "<style scoped>\n",
       "    .dataframe tbody tr th:only-of-type {\n",
       "        vertical-align: middle;\n",
       "    }\n",
       "\n",
       "    .dataframe tbody tr th {\n",
       "        vertical-align: top;\n",
       "    }\n",
       "\n",
       "    .dataframe thead th {\n",
       "        text-align: right;\n",
       "    }\n",
       "</style>\n",
       "<table border=\"1\" class=\"dataframe\">\n",
       "  <thead>\n",
       "    <tr style=\"text-align: right;\">\n",
       "      <th></th>\n",
       "      <th>n_jobs</th>\n",
       "      <th>n_neighbors</th>\n",
       "      <th>p</th>\n",
       "      <th>score</th>\n",
       "    </tr>\n",
       "  </thead>\n",
       "  <tbody>\n",
       "    <tr>\n",
       "      <th>25</th>\n",
       "      <td>-1</td>\n",
       "      <td>13</td>\n",
       "      <td>2</td>\n",
       "      <td>0.657143</td>\n",
       "    </tr>\n",
       "  </tbody>\n",
       "</table>\n",
       "</div>"
      ],
      "text/plain": [
       "    n_jobs  n_neighbors  p     score\n",
       "25      -1           13  2  0.657143"
      ]
     },
     "execution_count": 104,
     "metadata": {},
     "output_type": "execute_result"
    }
   ],
   "source": [
    "pd.DataFrame(grid.cv_results_['params']).sort_values('score', ascending=False).head(1)"
   ]
  },
  {
   "cell_type": "code",
   "execution_count": 106,
   "metadata": {},
   "outputs": [
    {
     "data": {
      "text/plain": [
       "dict_keys(['mean_fit_time', 'std_fit_time', 'mean_score_time', 'std_score_time', 'param_n_jobs', 'param_n_neighbors', 'param_p', 'params', 'split0_test_score', 'split1_test_score', 'split2_test_score', 'split3_test_score', 'split4_test_score', 'mean_test_score', 'std_test_score', 'rank_test_score'])"
      ]
     },
     "execution_count": 106,
     "metadata": {},
     "output_type": "execute_result"
    }
   ],
   "source": [
    "grid.cv_results_.keys()"
   ]
  },
  {
   "cell_type": "code",
   "execution_count": 109,
   "metadata": {},
   "outputs": [
    {
     "data": {
      "text/html": [
       "<div>\n",
       "<style scoped>\n",
       "    .dataframe tbody tr th:only-of-type {\n",
       "        vertical-align: middle;\n",
       "    }\n",
       "\n",
       "    .dataframe tbody tr th {\n",
       "        vertical-align: top;\n",
       "    }\n",
       "\n",
       "    .dataframe thead th {\n",
       "        text-align: right;\n",
       "    }\n",
       "</style>\n",
       "<table border=\"1\" class=\"dataframe\">\n",
       "  <thead>\n",
       "    <tr style=\"text-align: right;\">\n",
       "      <th></th>\n",
       "      <th>n_jobs</th>\n",
       "      <th>n_neighbors</th>\n",
       "      <th>p</th>\n",
       "      <th>score</th>\n",
       "    </tr>\n",
       "  </thead>\n",
       "  <tbody>\n",
       "    <tr>\n",
       "      <th>0</th>\n",
       "      <td>-1</td>\n",
       "      <td>1</td>\n",
       "      <td>1</td>\n",
       "      <td>0.550000</td>\n",
       "    </tr>\n",
       "    <tr>\n",
       "      <th>1</th>\n",
       "      <td>-1</td>\n",
       "      <td>1</td>\n",
       "      <td>2</td>\n",
       "      <td>0.557143</td>\n",
       "    </tr>\n",
       "    <tr>\n",
       "      <th>2</th>\n",
       "      <td>-1</td>\n",
       "      <td>2</td>\n",
       "      <td>1</td>\n",
       "      <td>0.621429</td>\n",
       "    </tr>\n",
       "    <tr>\n",
       "      <th>3</th>\n",
       "      <td>-1</td>\n",
       "      <td>2</td>\n",
       "      <td>2</td>\n",
       "      <td>0.621429</td>\n",
       "    </tr>\n",
       "    <tr>\n",
       "      <th>4</th>\n",
       "      <td>-1</td>\n",
       "      <td>3</td>\n",
       "      <td>1</td>\n",
       "      <td>0.564286</td>\n",
       "    </tr>\n",
       "    <tr>\n",
       "      <th>5</th>\n",
       "      <td>-1</td>\n",
       "      <td>3</td>\n",
       "      <td>2</td>\n",
       "      <td>0.564286</td>\n",
       "    </tr>\n",
       "    <tr>\n",
       "      <th>6</th>\n",
       "      <td>-1</td>\n",
       "      <td>4</td>\n",
       "      <td>1</td>\n",
       "      <td>0.592857</td>\n",
       "    </tr>\n",
       "    <tr>\n",
       "      <th>7</th>\n",
       "      <td>-1</td>\n",
       "      <td>4</td>\n",
       "      <td>2</td>\n",
       "      <td>0.592857</td>\n",
       "    </tr>\n",
       "    <tr>\n",
       "      <th>8</th>\n",
       "      <td>-1</td>\n",
       "      <td>5</td>\n",
       "      <td>1</td>\n",
       "      <td>0.578571</td>\n",
       "    </tr>\n",
       "    <tr>\n",
       "      <th>9</th>\n",
       "      <td>-1</td>\n",
       "      <td>5</td>\n",
       "      <td>2</td>\n",
       "      <td>0.564286</td>\n",
       "    </tr>\n",
       "    <tr>\n",
       "      <th>10</th>\n",
       "      <td>-1</td>\n",
       "      <td>6</td>\n",
       "      <td>1</td>\n",
       "      <td>0.571429</td>\n",
       "    </tr>\n",
       "    <tr>\n",
       "      <th>11</th>\n",
       "      <td>-1</td>\n",
       "      <td>6</td>\n",
       "      <td>2</td>\n",
       "      <td>0.571429</td>\n",
       "    </tr>\n",
       "    <tr>\n",
       "      <th>12</th>\n",
       "      <td>-1</td>\n",
       "      <td>7</td>\n",
       "      <td>1</td>\n",
       "      <td>0.571429</td>\n",
       "    </tr>\n",
       "    <tr>\n",
       "      <th>13</th>\n",
       "      <td>-1</td>\n",
       "      <td>7</td>\n",
       "      <td>2</td>\n",
       "      <td>0.564286</td>\n",
       "    </tr>\n",
       "    <tr>\n",
       "      <th>14</th>\n",
       "      <td>-1</td>\n",
       "      <td>8</td>\n",
       "      <td>1</td>\n",
       "      <td>0.600000</td>\n",
       "    </tr>\n",
       "    <tr>\n",
       "      <th>15</th>\n",
       "      <td>-1</td>\n",
       "      <td>8</td>\n",
       "      <td>2</td>\n",
       "      <td>0.600000</td>\n",
       "    </tr>\n",
       "    <tr>\n",
       "      <th>16</th>\n",
       "      <td>-1</td>\n",
       "      <td>9</td>\n",
       "      <td>1</td>\n",
       "      <td>0.585714</td>\n",
       "    </tr>\n",
       "    <tr>\n",
       "      <th>17</th>\n",
       "      <td>-1</td>\n",
       "      <td>9</td>\n",
       "      <td>2</td>\n",
       "      <td>0.592857</td>\n",
       "    </tr>\n",
       "    <tr>\n",
       "      <th>18</th>\n",
       "      <td>-1</td>\n",
       "      <td>10</td>\n",
       "      <td>1</td>\n",
       "      <td>0.614286</td>\n",
       "    </tr>\n",
       "    <tr>\n",
       "      <th>19</th>\n",
       "      <td>-1</td>\n",
       "      <td>10</td>\n",
       "      <td>2</td>\n",
       "      <td>0.614286</td>\n",
       "    </tr>\n",
       "    <tr>\n",
       "      <th>20</th>\n",
       "      <td>-1</td>\n",
       "      <td>11</td>\n",
       "      <td>1</td>\n",
       "      <td>0.614286</td>\n",
       "    </tr>\n",
       "    <tr>\n",
       "      <th>21</th>\n",
       "      <td>-1</td>\n",
       "      <td>11</td>\n",
       "      <td>2</td>\n",
       "      <td>0.614286</td>\n",
       "    </tr>\n",
       "    <tr>\n",
       "      <th>22</th>\n",
       "      <td>-1</td>\n",
       "      <td>12</td>\n",
       "      <td>1</td>\n",
       "      <td>0.628571</td>\n",
       "    </tr>\n",
       "    <tr>\n",
       "      <th>23</th>\n",
       "      <td>-1</td>\n",
       "      <td>12</td>\n",
       "      <td>2</td>\n",
       "      <td>0.621429</td>\n",
       "    </tr>\n",
       "    <tr>\n",
       "      <th>24</th>\n",
       "      <td>-1</td>\n",
       "      <td>13</td>\n",
       "      <td>1</td>\n",
       "      <td>0.635714</td>\n",
       "    </tr>\n",
       "    <tr>\n",
       "      <th>25</th>\n",
       "      <td>-1</td>\n",
       "      <td>13</td>\n",
       "      <td>2</td>\n",
       "      <td>0.657143</td>\n",
       "    </tr>\n",
       "    <tr>\n",
       "      <th>26</th>\n",
       "      <td>-1</td>\n",
       "      <td>14</td>\n",
       "      <td>1</td>\n",
       "      <td>0.628571</td>\n",
       "    </tr>\n",
       "    <tr>\n",
       "      <th>27</th>\n",
       "      <td>-1</td>\n",
       "      <td>14</td>\n",
       "      <td>2</td>\n",
       "      <td>0.642857</td>\n",
       "    </tr>\n",
       "    <tr>\n",
       "      <th>28</th>\n",
       "      <td>-1</td>\n",
       "      <td>15</td>\n",
       "      <td>1</td>\n",
       "      <td>0.650000</td>\n",
       "    </tr>\n",
       "    <tr>\n",
       "      <th>29</th>\n",
       "      <td>-1</td>\n",
       "      <td>15</td>\n",
       "      <td>2</td>\n",
       "      <td>0.642857</td>\n",
       "    </tr>\n",
       "    <tr>\n",
       "      <th>30</th>\n",
       "      <td>-1</td>\n",
       "      <td>16</td>\n",
       "      <td>1</td>\n",
       "      <td>0.621429</td>\n",
       "    </tr>\n",
       "    <tr>\n",
       "      <th>31</th>\n",
       "      <td>-1</td>\n",
       "      <td>16</td>\n",
       "      <td>2</td>\n",
       "      <td>0.614286</td>\n",
       "    </tr>\n",
       "    <tr>\n",
       "      <th>32</th>\n",
       "      <td>-1</td>\n",
       "      <td>17</td>\n",
       "      <td>1</td>\n",
       "      <td>0.657143</td>\n",
       "    </tr>\n",
       "    <tr>\n",
       "      <th>33</th>\n",
       "      <td>-1</td>\n",
       "      <td>17</td>\n",
       "      <td>2</td>\n",
       "      <td>0.650000</td>\n",
       "    </tr>\n",
       "    <tr>\n",
       "      <th>34</th>\n",
       "      <td>-1</td>\n",
       "      <td>18</td>\n",
       "      <td>1</td>\n",
       "      <td>0.642857</td>\n",
       "    </tr>\n",
       "    <tr>\n",
       "      <th>35</th>\n",
       "      <td>-1</td>\n",
       "      <td>18</td>\n",
       "      <td>2</td>\n",
       "      <td>0.614286</td>\n",
       "    </tr>\n",
       "    <tr>\n",
       "      <th>36</th>\n",
       "      <td>-1</td>\n",
       "      <td>19</td>\n",
       "      <td>1</td>\n",
       "      <td>0.650000</td>\n",
       "    </tr>\n",
       "    <tr>\n",
       "      <th>37</th>\n",
       "      <td>-1</td>\n",
       "      <td>19</td>\n",
       "      <td>2</td>\n",
       "      <td>0.635714</td>\n",
       "    </tr>\n",
       "    <tr>\n",
       "      <th>38</th>\n",
       "      <td>-1</td>\n",
       "      <td>20</td>\n",
       "      <td>1</td>\n",
       "      <td>0.628571</td>\n",
       "    </tr>\n",
       "    <tr>\n",
       "      <th>39</th>\n",
       "      <td>-1</td>\n",
       "      <td>20</td>\n",
       "      <td>2</td>\n",
       "      <td>0.628571</td>\n",
       "    </tr>\n",
       "    <tr>\n",
       "      <th>40</th>\n",
       "      <td>1</td>\n",
       "      <td>1</td>\n",
       "      <td>1</td>\n",
       "      <td>0.550000</td>\n",
       "    </tr>\n",
       "    <tr>\n",
       "      <th>41</th>\n",
       "      <td>1</td>\n",
       "      <td>1</td>\n",
       "      <td>2</td>\n",
       "      <td>0.557143</td>\n",
       "    </tr>\n",
       "    <tr>\n",
       "      <th>42</th>\n",
       "      <td>1</td>\n",
       "      <td>2</td>\n",
       "      <td>1</td>\n",
       "      <td>0.621429</td>\n",
       "    </tr>\n",
       "    <tr>\n",
       "      <th>43</th>\n",
       "      <td>1</td>\n",
       "      <td>2</td>\n",
       "      <td>2</td>\n",
       "      <td>0.621429</td>\n",
       "    </tr>\n",
       "    <tr>\n",
       "      <th>44</th>\n",
       "      <td>1</td>\n",
       "      <td>3</td>\n",
       "      <td>1</td>\n",
       "      <td>0.564286</td>\n",
       "    </tr>\n",
       "    <tr>\n",
       "      <th>45</th>\n",
       "      <td>1</td>\n",
       "      <td>3</td>\n",
       "      <td>2</td>\n",
       "      <td>0.564286</td>\n",
       "    </tr>\n",
       "    <tr>\n",
       "      <th>46</th>\n",
       "      <td>1</td>\n",
       "      <td>4</td>\n",
       "      <td>1</td>\n",
       "      <td>0.592857</td>\n",
       "    </tr>\n",
       "    <tr>\n",
       "      <th>47</th>\n",
       "      <td>1</td>\n",
       "      <td>4</td>\n",
       "      <td>2</td>\n",
       "      <td>0.592857</td>\n",
       "    </tr>\n",
       "    <tr>\n",
       "      <th>48</th>\n",
       "      <td>1</td>\n",
       "      <td>5</td>\n",
       "      <td>1</td>\n",
       "      <td>0.578571</td>\n",
       "    </tr>\n",
       "    <tr>\n",
       "      <th>49</th>\n",
       "      <td>1</td>\n",
       "      <td>5</td>\n",
       "      <td>2</td>\n",
       "      <td>0.564286</td>\n",
       "    </tr>\n",
       "    <tr>\n",
       "      <th>50</th>\n",
       "      <td>1</td>\n",
       "      <td>6</td>\n",
       "      <td>1</td>\n",
       "      <td>0.571429</td>\n",
       "    </tr>\n",
       "    <tr>\n",
       "      <th>51</th>\n",
       "      <td>1</td>\n",
       "      <td>6</td>\n",
       "      <td>2</td>\n",
       "      <td>0.571429</td>\n",
       "    </tr>\n",
       "    <tr>\n",
       "      <th>52</th>\n",
       "      <td>1</td>\n",
       "      <td>7</td>\n",
       "      <td>1</td>\n",
       "      <td>0.571429</td>\n",
       "    </tr>\n",
       "    <tr>\n",
       "      <th>53</th>\n",
       "      <td>1</td>\n",
       "      <td>7</td>\n",
       "      <td>2</td>\n",
       "      <td>0.564286</td>\n",
       "    </tr>\n",
       "    <tr>\n",
       "      <th>54</th>\n",
       "      <td>1</td>\n",
       "      <td>8</td>\n",
       "      <td>1</td>\n",
       "      <td>0.600000</td>\n",
       "    </tr>\n",
       "    <tr>\n",
       "      <th>55</th>\n",
       "      <td>1</td>\n",
       "      <td>8</td>\n",
       "      <td>2</td>\n",
       "      <td>0.600000</td>\n",
       "    </tr>\n",
       "    <tr>\n",
       "      <th>56</th>\n",
       "      <td>1</td>\n",
       "      <td>9</td>\n",
       "      <td>1</td>\n",
       "      <td>0.585714</td>\n",
       "    </tr>\n",
       "    <tr>\n",
       "      <th>57</th>\n",
       "      <td>1</td>\n",
       "      <td>9</td>\n",
       "      <td>2</td>\n",
       "      <td>0.592857</td>\n",
       "    </tr>\n",
       "    <tr>\n",
       "      <th>58</th>\n",
       "      <td>1</td>\n",
       "      <td>10</td>\n",
       "      <td>1</td>\n",
       "      <td>0.614286</td>\n",
       "    </tr>\n",
       "    <tr>\n",
       "      <th>59</th>\n",
       "      <td>1</td>\n",
       "      <td>10</td>\n",
       "      <td>2</td>\n",
       "      <td>0.614286</td>\n",
       "    </tr>\n",
       "    <tr>\n",
       "      <th>60</th>\n",
       "      <td>1</td>\n",
       "      <td>11</td>\n",
       "      <td>1</td>\n",
       "      <td>0.614286</td>\n",
       "    </tr>\n",
       "    <tr>\n",
       "      <th>61</th>\n",
       "      <td>1</td>\n",
       "      <td>11</td>\n",
       "      <td>2</td>\n",
       "      <td>0.614286</td>\n",
       "    </tr>\n",
       "    <tr>\n",
       "      <th>62</th>\n",
       "      <td>1</td>\n",
       "      <td>12</td>\n",
       "      <td>1</td>\n",
       "      <td>0.628571</td>\n",
       "    </tr>\n",
       "    <tr>\n",
       "      <th>63</th>\n",
       "      <td>1</td>\n",
       "      <td>12</td>\n",
       "      <td>2</td>\n",
       "      <td>0.621429</td>\n",
       "    </tr>\n",
       "    <tr>\n",
       "      <th>64</th>\n",
       "      <td>1</td>\n",
       "      <td>13</td>\n",
       "      <td>1</td>\n",
       "      <td>0.635714</td>\n",
       "    </tr>\n",
       "    <tr>\n",
       "      <th>65</th>\n",
       "      <td>1</td>\n",
       "      <td>13</td>\n",
       "      <td>2</td>\n",
       "      <td>0.657143</td>\n",
       "    </tr>\n",
       "    <tr>\n",
       "      <th>66</th>\n",
       "      <td>1</td>\n",
       "      <td>14</td>\n",
       "      <td>1</td>\n",
       "      <td>0.628571</td>\n",
       "    </tr>\n",
       "    <tr>\n",
       "      <th>67</th>\n",
       "      <td>1</td>\n",
       "      <td>14</td>\n",
       "      <td>2</td>\n",
       "      <td>0.642857</td>\n",
       "    </tr>\n",
       "    <tr>\n",
       "      <th>68</th>\n",
       "      <td>1</td>\n",
       "      <td>15</td>\n",
       "      <td>1</td>\n",
       "      <td>0.650000</td>\n",
       "    </tr>\n",
       "    <tr>\n",
       "      <th>69</th>\n",
       "      <td>1</td>\n",
       "      <td>15</td>\n",
       "      <td>2</td>\n",
       "      <td>0.642857</td>\n",
       "    </tr>\n",
       "    <tr>\n",
       "      <th>70</th>\n",
       "      <td>1</td>\n",
       "      <td>16</td>\n",
       "      <td>1</td>\n",
       "      <td>0.621429</td>\n",
       "    </tr>\n",
       "    <tr>\n",
       "      <th>71</th>\n",
       "      <td>1</td>\n",
       "      <td>16</td>\n",
       "      <td>2</td>\n",
       "      <td>0.614286</td>\n",
       "    </tr>\n",
       "    <tr>\n",
       "      <th>72</th>\n",
       "      <td>1</td>\n",
       "      <td>17</td>\n",
       "      <td>1</td>\n",
       "      <td>0.657143</td>\n",
       "    </tr>\n",
       "    <tr>\n",
       "      <th>73</th>\n",
       "      <td>1</td>\n",
       "      <td>17</td>\n",
       "      <td>2</td>\n",
       "      <td>0.650000</td>\n",
       "    </tr>\n",
       "    <tr>\n",
       "      <th>74</th>\n",
       "      <td>1</td>\n",
       "      <td>18</td>\n",
       "      <td>1</td>\n",
       "      <td>0.642857</td>\n",
       "    </tr>\n",
       "    <tr>\n",
       "      <th>75</th>\n",
       "      <td>1</td>\n",
       "      <td>18</td>\n",
       "      <td>2</td>\n",
       "      <td>0.614286</td>\n",
       "    </tr>\n",
       "    <tr>\n",
       "      <th>76</th>\n",
       "      <td>1</td>\n",
       "      <td>19</td>\n",
       "      <td>1</td>\n",
       "      <td>0.650000</td>\n",
       "    </tr>\n",
       "    <tr>\n",
       "      <th>77</th>\n",
       "      <td>1</td>\n",
       "      <td>19</td>\n",
       "      <td>2</td>\n",
       "      <td>0.635714</td>\n",
       "    </tr>\n",
       "    <tr>\n",
       "      <th>78</th>\n",
       "      <td>1</td>\n",
       "      <td>20</td>\n",
       "      <td>1</td>\n",
       "      <td>0.628571</td>\n",
       "    </tr>\n",
       "    <tr>\n",
       "      <th>79</th>\n",
       "      <td>1</td>\n",
       "      <td>20</td>\n",
       "      <td>2</td>\n",
       "      <td>0.628571</td>\n",
       "    </tr>\n",
       "  </tbody>\n",
       "</table>\n",
       "</div>"
      ],
      "text/plain": [
       "    n_jobs  n_neighbors  p     score\n",
       "0       -1            1  1  0.550000\n",
       "1       -1            1  2  0.557143\n",
       "2       -1            2  1  0.621429\n",
       "3       -1            2  2  0.621429\n",
       "4       -1            3  1  0.564286\n",
       "5       -1            3  2  0.564286\n",
       "6       -1            4  1  0.592857\n",
       "7       -1            4  2  0.592857\n",
       "8       -1            5  1  0.578571\n",
       "9       -1            5  2  0.564286\n",
       "10      -1            6  1  0.571429\n",
       "11      -1            6  2  0.571429\n",
       "12      -1            7  1  0.571429\n",
       "13      -1            7  2  0.564286\n",
       "14      -1            8  1  0.600000\n",
       "15      -1            8  2  0.600000\n",
       "16      -1            9  1  0.585714\n",
       "17      -1            9  2  0.592857\n",
       "18      -1           10  1  0.614286\n",
       "19      -1           10  2  0.614286\n",
       "20      -1           11  1  0.614286\n",
       "21      -1           11  2  0.614286\n",
       "22      -1           12  1  0.628571\n",
       "23      -1           12  2  0.621429\n",
       "24      -1           13  1  0.635714\n",
       "25      -1           13  2  0.657143\n",
       "26      -1           14  1  0.628571\n",
       "27      -1           14  2  0.642857\n",
       "28      -1           15  1  0.650000\n",
       "29      -1           15  2  0.642857\n",
       "30      -1           16  1  0.621429\n",
       "31      -1           16  2  0.614286\n",
       "32      -1           17  1  0.657143\n",
       "33      -1           17  2  0.650000\n",
       "34      -1           18  1  0.642857\n",
       "35      -1           18  2  0.614286\n",
       "36      -1           19  1  0.650000\n",
       "37      -1           19  2  0.635714\n",
       "38      -1           20  1  0.628571\n",
       "39      -1           20  2  0.628571\n",
       "40       1            1  1  0.550000\n",
       "41       1            1  2  0.557143\n",
       "42       1            2  1  0.621429\n",
       "43       1            2  2  0.621429\n",
       "44       1            3  1  0.564286\n",
       "45       1            3  2  0.564286\n",
       "46       1            4  1  0.592857\n",
       "47       1            4  2  0.592857\n",
       "48       1            5  1  0.578571\n",
       "49       1            5  2  0.564286\n",
       "50       1            6  1  0.571429\n",
       "51       1            6  2  0.571429\n",
       "52       1            7  1  0.571429\n",
       "53       1            7  2  0.564286\n",
       "54       1            8  1  0.600000\n",
       "55       1            8  2  0.600000\n",
       "56       1            9  1  0.585714\n",
       "57       1            9  2  0.592857\n",
       "58       1           10  1  0.614286\n",
       "59       1           10  2  0.614286\n",
       "60       1           11  1  0.614286\n",
       "61       1           11  2  0.614286\n",
       "62       1           12  1  0.628571\n",
       "63       1           12  2  0.621429\n",
       "64       1           13  1  0.635714\n",
       "65       1           13  2  0.657143\n",
       "66       1           14  1  0.628571\n",
       "67       1           14  2  0.642857\n",
       "68       1           15  1  0.650000\n",
       "69       1           15  2  0.642857\n",
       "70       1           16  1  0.621429\n",
       "71       1           16  2  0.614286\n",
       "72       1           17  1  0.657143\n",
       "73       1           17  2  0.650000\n",
       "74       1           18  1  0.642857\n",
       "75       1           18  2  0.614286\n",
       "76       1           19  1  0.650000\n",
       "77       1           19  2  0.635714\n",
       "78       1           20  1  0.628571\n",
       "79       1           20  2  0.628571"
      ]
     },
     "execution_count": 109,
     "metadata": {},
     "output_type": "execute_result"
    }
   ],
   "source": [
    "grid_results = pd.DataFrame(grid.cv_results_['params'])\n",
    "# grid_results"
   ]
  },
  {
   "cell_type": "code",
   "execution_count": 110,
   "metadata": {},
   "outputs": [],
   "source": [
    "grid_results['rank_test_scores'] = grid.cv_results_['rank_test_score']"
   ]
  },
  {
   "cell_type": "code",
   "execution_count": 113,
   "metadata": {},
   "outputs": [],
   "source": [
    "grid_results['mean_fit_time'] = grid.cv_results_['mean_fit_time']\n",
    "grid_results['mean_score_time'] = grid.cv_results_['mean_score_time']"
   ]
  },
  {
   "cell_type": "code",
   "execution_count": 115,
   "metadata": {},
   "outputs": [],
   "source": [
    "grid_results['avg_time'] = grid_results.mean_fit_time + grid_results.mean_score_time"
   ]
  },
  {
   "cell_type": "code",
   "execution_count": 117,
   "metadata": {},
   "outputs": [],
   "source": [
    "grid_results.drop(columns= ['mean_fit_time', 'mean_score_time'], inplace=True)"
   ]
  },
  {
   "cell_type": "code",
   "execution_count": 118,
   "metadata": {},
   "outputs": [
    {
     "data": {
      "text/html": [
       "<div>\n",
       "<style scoped>\n",
       "    .dataframe tbody tr th:only-of-type {\n",
       "        vertical-align: middle;\n",
       "    }\n",
       "\n",
       "    .dataframe tbody tr th {\n",
       "        vertical-align: top;\n",
       "    }\n",
       "\n",
       "    .dataframe thead th {\n",
       "        text-align: right;\n",
       "    }\n",
       "</style>\n",
       "<table border=\"1\" class=\"dataframe\">\n",
       "  <thead>\n",
       "    <tr style=\"text-align: right;\">\n",
       "      <th></th>\n",
       "      <th>n_jobs</th>\n",
       "      <th>n_neighbors</th>\n",
       "      <th>p</th>\n",
       "      <th>score</th>\n",
       "      <th>rank_test_scores</th>\n",
       "      <th>avg_time</th>\n",
       "    </tr>\n",
       "  </thead>\n",
       "  <tbody>\n",
       "    <tr>\n",
       "      <th>25</th>\n",
       "      <td>-1</td>\n",
       "      <td>13</td>\n",
       "      <td>2</td>\n",
       "      <td>0.657143</td>\n",
       "      <td>1</td>\n",
       "      <td>0.007218</td>\n",
       "    </tr>\n",
       "    <tr>\n",
       "      <th>65</th>\n",
       "      <td>1</td>\n",
       "      <td>13</td>\n",
       "      <td>2</td>\n",
       "      <td>0.657143</td>\n",
       "      <td>1</td>\n",
       "      <td>0.001314</td>\n",
       "    </tr>\n",
       "    <tr>\n",
       "      <th>32</th>\n",
       "      <td>-1</td>\n",
       "      <td>17</td>\n",
       "      <td>1</td>\n",
       "      <td>0.657143</td>\n",
       "      <td>1</td>\n",
       "      <td>0.006815</td>\n",
       "    </tr>\n",
       "    <tr>\n",
       "      <th>72</th>\n",
       "      <td>1</td>\n",
       "      <td>17</td>\n",
       "      <td>1</td>\n",
       "      <td>0.657143</td>\n",
       "      <td>1</td>\n",
       "      <td>0.002514</td>\n",
       "    </tr>\n",
       "    <tr>\n",
       "      <th>33</th>\n",
       "      <td>-1</td>\n",
       "      <td>17</td>\n",
       "      <td>2</td>\n",
       "      <td>0.650000</td>\n",
       "      <td>5</td>\n",
       "      <td>0.006741</td>\n",
       "    </tr>\n",
       "  </tbody>\n",
       "</table>\n",
       "</div>"
      ],
      "text/plain": [
       "    n_jobs  n_neighbors  p     score  rank_test_scores  avg_time\n",
       "25      -1           13  2  0.657143                 1  0.007218\n",
       "65       1           13  2  0.657143                 1  0.001314\n",
       "32      -1           17  1  0.657143                 1  0.006815\n",
       "72       1           17  1  0.657143                 1  0.002514\n",
       "33      -1           17  2  0.650000                 5  0.006741"
      ]
     },
     "execution_count": 118,
     "metadata": {},
     "output_type": "execute_result"
    }
   ],
   "source": [
    "grid_results.sort_values('score', ascending=False).head()"
   ]
  },
  {
   "cell_type": "code",
   "execution_count": 133,
   "metadata": {},
   "outputs": [
    {
     "data": {
      "text/html": [
       "<div>\n",
       "<style scoped>\n",
       "    .dataframe tbody tr th:only-of-type {\n",
       "        vertical-align: middle;\n",
       "    }\n",
       "\n",
       "    .dataframe tbody tr th {\n",
       "        vertical-align: top;\n",
       "    }\n",
       "\n",
       "    .dataframe thead th {\n",
       "        text-align: right;\n",
       "    }\n",
       "</style>\n",
       "<table border=\"1\" class=\"dataframe\">\n",
       "  <thead>\n",
       "    <tr style=\"text-align: right;\">\n",
       "      <th></th>\n",
       "      <th>n_jobs</th>\n",
       "      <th>n_neighbors</th>\n",
       "      <th>p</th>\n",
       "      <th>score</th>\n",
       "      <th>rank_test_scores</th>\n",
       "      <th>avg_time</th>\n",
       "    </tr>\n",
       "  </thead>\n",
       "  <tbody>\n",
       "    <tr>\n",
       "      <th>65</th>\n",
       "      <td>1</td>\n",
       "      <td>13</td>\n",
       "      <td>2</td>\n",
       "      <td>0.657143</td>\n",
       "      <td>1</td>\n",
       "      <td>0.001314</td>\n",
       "    </tr>\n",
       "    <tr>\n",
       "      <th>72</th>\n",
       "      <td>1</td>\n",
       "      <td>17</td>\n",
       "      <td>1</td>\n",
       "      <td>0.657143</td>\n",
       "      <td>1</td>\n",
       "      <td>0.002514</td>\n",
       "    </tr>\n",
       "    <tr>\n",
       "      <th>32</th>\n",
       "      <td>-1</td>\n",
       "      <td>17</td>\n",
       "      <td>1</td>\n",
       "      <td>0.657143</td>\n",
       "      <td>1</td>\n",
       "      <td>0.006815</td>\n",
       "    </tr>\n",
       "    <tr>\n",
       "      <th>25</th>\n",
       "      <td>-1</td>\n",
       "      <td>13</td>\n",
       "      <td>2</td>\n",
       "      <td>0.657143</td>\n",
       "      <td>1</td>\n",
       "      <td>0.007218</td>\n",
       "    </tr>\n",
       "    <tr>\n",
       "      <th>73</th>\n",
       "      <td>1</td>\n",
       "      <td>17</td>\n",
       "      <td>2</td>\n",
       "      <td>0.650000</td>\n",
       "      <td>5</td>\n",
       "      <td>0.002677</td>\n",
       "    </tr>\n",
       "  </tbody>\n",
       "</table>\n",
       "</div>"
      ],
      "text/plain": [
       "    n_jobs  n_neighbors  p     score  rank_test_scores  avg_time\n",
       "65       1           13  2  0.657143                 1  0.001314\n",
       "72       1           17  1  0.657143                 1  0.002514\n",
       "32      -1           17  1  0.657143                 1  0.006815\n",
       "25      -1           13  2  0.657143                 1  0.007218\n",
       "73       1           17  2  0.650000                 5  0.002677"
      ]
     },
     "execution_count": 133,
     "metadata": {},
     "output_type": "execute_result"
    }
   ],
   "source": [
    "grid_results.sort_values(['rank_test_scores', 'avg_time']).head()"
   ]
  },
  {
   "cell_type": "code",
   "execution_count": 121,
   "metadata": {},
   "outputs": [
    {
     "data": {
      "text/plain": [
       "array([79, 77, 29, 29, 69, 69, 55, 53, 61, 69, 63, 63, 63, 69, 49, 49, 59,\n",
       "       55, 37, 45, 37, 45, 21, 35, 17,  1, 23, 11,  5, 11, 29, 37,  1,  5,\n",
       "       11, 37,  9, 17, 23, 23, 79, 77, 29, 29, 69, 69, 55, 53, 61, 69, 63,\n",
       "       63, 63, 69, 49, 49, 59, 55, 37, 45, 37, 45, 21, 35, 17,  1, 23, 11,\n",
       "        5, 11, 29, 37,  1,  5, 11, 37,  9, 17, 23, 23], dtype=int32)"
      ]
     },
     "execution_count": 121,
     "metadata": {},
     "output_type": "execute_result"
    }
   ],
   "source": [
    "grid.cv_results_['rank_test_score']"
   ]
  },
  {
   "cell_type": "code",
   "execution_count": 137,
   "metadata": {},
   "outputs": [],
   "source": [
    "forest = RandomForestClassifier(oob_score= True, random_state=617)"
   ]
  },
  {
   "cell_type": "code",
   "execution_count": 139,
   "metadata": {},
   "outputs": [],
   "source": [
    "params_forest = {'n_estimators': [100, 50],\n",
    "                'criterion': ['gini', 'entropy'],\n",
    "                'max_depth': [10, 20, None],\n",
    "                'min_samples_split': [2,],\n",
    "                'min_samples_leaf': [1,],\n",
    "                'n_jobs': [1,],\n",
    "}"
   ]
  },
  {
   "cell_type": "markdown",
   "metadata": {},
   "source": [
    "A random forest classifier.\n",
    "\n",
    "    A random forest is a meta estimator that fits a number of decision tree\n",
    "    classifiers on various sub-samples of the dataset and uses averaging to\n",
    "    improve the predictive accuracy and control over-fitting.\n",
    "    The sub-sample size is controlled with the `max_samples` parameter if\n",
    "    `bootstrap=True` (default), otherwise the whole dataset is used to build\n",
    "    each tree.\n",
    "\n",
    "    Read more in the :ref:`User Guide <forest>`.\n",
    "\n",
    "    Parameters\n",
    "    ----------\n",
    "    n_estimators : int, default=100\n",
    "        The number of trees in the forest.\n",
    "\n",
    "        .. versionchanged:: 0.22\n",
    "           The default value of ``n_estimators`` changed from 10 to 100\n",
    "           in 0.22.\n",
    "\n",
    "    criterion : {\"gini\", \"entropy\"}, default=\"gini\"\n",
    "        The function to measure the quality of a split. Supported criteria are\n",
    "        \"gini\" for the Gini impurity and \"entropy\" for the information gain.\n",
    "        Note: this parameter is tree-specific.\n",
    "\n",
    "    max_depth : int, default=None\n",
    "        The maximum depth of the tree. If None, then nodes are expanded until\n",
    "        all leaves are pure or until all leaves contain less than\n",
    "        min_samples_split samples.\n",
    "\n",
    "    min_samples_split : int or float, default=2\n",
    "        The minimum number of samples required to split an internal node:\n",
    "\n",
    "        - If int, then consider `min_samples_split` as the minimum number.\n",
    "        - If float, then `min_samples_split` is a fraction and\n",
    "          `ceil(min_samples_split * n_samples)` are the minimum\n",
    "          number of samples for each split.\n",
    "\n",
    "        .. versionchanged:: 0.18\n",
    "           Added float values for fractions.\n",
    "\n",
    "    min_samples_leaf : int or float, default=1\n",
    "        The minimum number of samples required to be at a leaf node.\n",
    "        A split point at any depth will only be considered if it leaves at\n",
    "        least ``min_samples_leaf`` training samples in each of the left and\n",
    "        right branches.  This may have the effect of smoothing the model,\n",
    "        especially in regression.\n",
    "\n",
    "        - If int, then consider `min_samples_leaf` as the minimum number.\n",
    "        - If float, then `min_samples_leaf` is a fraction and\n",
    "          `ceil(min_samples_leaf * n_samples)` are the minimum\n",
    "          number of samples for each node.\n",
    "\n",
    "        .. versionchanged:: 0.18\n",
    "           Added float values for fractions.\n",
    "\n",
    "    min_weight_fraction_leaf : float, default=0.0\n",
    "        The minimum weighted fraction of the sum total of weights (of all\n",
    "        the input samples) required to be at a leaf node. Samples have\n",
    "        equal weight when sample_weight is not provided.\n",
    "\n",
    "    max_features : {\"auto\", \"sqrt\", \"log2\"}, int or float, default=\"auto\"\n",
    "        The number of features to consider when looking for the best split:\n",
    "\n",
    "        - If int, then consider `max_features` features at each split.\n",
    "        - If float, then `max_features` is a fraction and\n",
    "          `round(max_features * n_features)` features are considered at each\n",
    "          split.\n",
    "        - If \"auto\", then `max_features=sqrt(n_features)`.\n",
    "        - If \"sqrt\", then `max_features=sqrt(n_features)` (same as \"auto\").\n",
    "        - If \"log2\", then `max_features=log2(n_features)`.\n",
    "        - If None, then `max_features=n_features`.\n",
    "\n",
    "        Note: the search for a split does not stop until at least one\n",
    "        valid partition of the node samples is found, even if it requires to\n",
    "        effectively inspect more than ``max_features`` features.\n",
    "\n",
    "    max_leaf_nodes : int, default=None\n",
    "        Grow trees with ``max_leaf_nodes`` in best-first fashion.\n",
    "        Best nodes are defined as relative reduction in impurity.\n",
    "        If None then unlimited number of leaf nodes.\n",
    "\n",
    "    min_impurity_decrease : float, default=0.0\n",
    "        A node will be split if this split induces a decrease of the impurity\n",
    "        greater than or equal to this value.\n",
    "\n",
    "        The weighted impurity decrease equation is the following::\n",
    "\n",
    "            N_t / N * (impurity - N_t_R / N_t * right_impurity\n",
    "                                - N_t_L / N_t * left_impurity)\n",
    "\n",
    "        where ``N`` is the total number of samples, ``N_t`` is the number of\n",
    "        samples at the current node, ``N_t_L`` is the number of samples in the\n",
    "        left child, and ``N_t_R`` is the number of samples in the right child.\n",
    "\n",
    "        ``N``, ``N_t``, ``N_t_R`` and ``N_t_L`` all refer to the weighted sum,\n",
    "        if ``sample_weight`` is passed.\n",
    "\n",
    "        .. versionadded:: 0.19\n",
    "\n",
    "    bootstrap : bool, default=True\n",
    "        Whether bootstrap samples are used when building trees. If False, the\n",
    "        whole dataset is used to build each tree.\n",
    "\n",
    "    oob_score : bool, default=False\n",
    "        Whether to use out-of-bag samples to estimate the generalization score.\n",
    "        Only available if bootstrap=True.\n",
    "\n",
    "    n_jobs : int, default=None\n",
    "        The number of jobs to run in parallel. :meth:`fit`, :meth:`predict`,\n",
    "        :meth:`decision_path` and :meth:`apply` are all parallelized over the\n",
    "        trees. ``None`` means 1 unless in a :obj:`joblib.parallel_backend`\n",
    "        context. ``-1`` means using all processors. See :term:`Glossary\n",
    "        <n_jobs>` for more details.\n",
    "\n",
    "    random_state : int, RandomState instance or None, default=None\n",
    "        Controls both the randomness of the bootstrapping of the samples used\n",
    "        when building trees (if ``bootstrap=True``) and the sampling of the\n",
    "        features to consider when looking for the best split at each node\n",
    "        (if ``max_features < n_features``).\n",
    "        See :term:`Glossary <random_state>` for details.\n",
    "\n",
    "    verbose : int, default=0\n",
    "        Controls the verbosity when fitting and predicting.\n",
    "\n",
    "    warm_start : bool, default=False\n",
    "        When set to ``True``, reuse the solution of the previous call to fit\n",
    "        and add more estimators to the ensemble, otherwise, just fit a whole\n",
    "        new forest. See :term:`the Glossary <warm_start>`.\n",
    "\n",
    "    class_weight : {\"balanced\", \"balanced_subsample\"}, dict or list of dicts, \\\n",
    "            default=None\n",
    "        Weights associated with classes in the form ``{class_label: weight}``.\n",
    "        If not given, all classes are supposed to have weight one. For\n",
    "        multi-output problems, a list of dicts can be provided in the same\n",
    "        order as the columns of y.\n",
    "\n",
    "        Note that for multioutput (including multilabel) weights should be\n",
    "        defined for each class of every column in its own dict. For example,\n",
    "        for four-class multilabel classification weights should be\n",
    "        [{0: 1, 1: 1}, {0: 1, 1: 5}, {0: 1, 1: 1}, {0: 1, 1: 1}] instead of\n",
    "        [{1:1}, {2:5}, {3:1}, {4:1}].\n",
    "\n",
    "        The \"balanced\" mode uses the values of y to automatically adjust\n",
    "        weights inversely proportional to class frequencies in the input data\n",
    "        as ``n_samples / (n_classes * np.bincount(y))``\n",
    "\n",
    "        The \"balanced_subsample\" mode is the same as \"balanced\" except that\n",
    "        weights are computed based on the bootstrap sample for every tree\n",
    "        grown.\n",
    "\n",
    "        For multi-output, the weights of each column of y will be multiplied.\n",
    "\n",
    "        Note that these weights will be multiplied with sample_weight (passed\n",
    "        through the fit method) if sample_weight is specified.\n",
    "\n",
    "    ccp_alpha : non-negative float, default=0.0\n",
    "        Complexity parameter used for Minimal Cost-Complexity Pruning. The\n",
    "        subtree with the largest cost complexity that is smaller than\n",
    "        ``ccp_alpha`` will be chosen. By default, no pruning is performed. See\n",
    "        :ref:`minimal_cost_complexity_pruning` for details.\n",
    "\n",
    "        .. versionadded:: 0.22\n",
    "\n",
    "    max_samples : int or float, default=None\n",
    "        If bootstrap is True, the number of samples to draw from X\n",
    "        to train each base estimator.\n",
    "\n",
    "        - If None (default), then draw `X.shape[0]` samples.\n",
    "        - If int, then draw `max_samples` samples.\n",
    "        - If float, then draw `max_samples * X.shape[0]` samples. Thus,\n",
    "          `max_samples` should be in the interval `(0.0, 1.0]`.\n",
    "\n",
    "        .. versionadded:: 0.22\n",
    "\n",
    "    Attributes\n",
    "    ----------\n",
    "    base_estimator_ : DecisionTreeClassifier\n",
    "        The child estimator template used to create the collection of fitted\n",
    "        sub-estimators.\n",
    "\n",
    "    estimators_ : list of DecisionTreeClassifier\n",
    "        The collection of fitted sub-estimators.\n",
    "\n",
    "    classes_ : ndarray of shape (n_classes,) or a list of such arrays\n",
    "        The classes labels (single output problem), or a list of arrays of\n",
    "        class labels (multi-output problem).\n",
    "\n",
    "    n_classes_ : int or list\n",
    "        The number of classes (single output problem), or a list containing the\n",
    "        number of classes for each output (multi-output problem).\n",
    "\n",
    "    n_features_ : int\n",
    "        The number of features when ``fit`` is performed.\n",
    "\n",
    "        .. deprecated:: 1.0\n",
    "            Attribute `n_features_` was deprecated in version 1.0 and will be\n",
    "            removed in 1.2. Use `n_features_in_` instead.\n",
    "\n",
    "    n_features_in_ : int\n",
    "        Number of features seen during :term:`fit`.\n",
    "\n",
    "        .. versionadded:: 0.24\n",
    "\n",
    "    feature_names_in_ : ndarray of shape (`n_features_in_`,)\n",
    "        Names of features seen during :term:`fit`. Defined only when `X`\n",
    "        has feature names that are all strings.\n",
    "\n",
    "        .. versionadded:: 1.0\n",
    "\n",
    "    n_outputs_ : int\n",
    "        The number of outputs when ``fit`` is performed.\n",
    "\n",
    "    feature_importances_ : ndarray of shape (n_features,)\n",
    "        The impurity-based feature importances.\n",
    "        The higher, the more important the feature.\n",
    "        The importance of a feature is computed as the (normalized)\n",
    "        total reduction of the criterion brought by that feature.  It is also\n",
    "        known as the Gini importance.\n",
    "\n",
    "        Warning: impurity-based feature importances can be misleading for\n",
    "        high cardinality features (many unique values). See\n",
    "        :func:`sklearn.inspection.permutation_importance` as an alternative.\n",
    "\n",
    "    oob_score_ : float\n",
    "        Score of the training dataset obtained using an out-of-bag estimate.\n",
    "        This attribute exists only when ``oob_score`` is True.\n",
    "\n",
    "    oob_decision_function_ : ndarray of shape (n_samples, n_classes) or \\\n",
    "            (n_samples, n_classes, n_outputs)\n",
    "        Decision function computed with out-of-bag estimate on the training\n",
    "        set. If n_estimators is small it might be possible that a data point\n",
    "        was never left out during the bootstrap. In this case,\n",
    "        `oob_decision_function_` might contain NaN. This attribute exists\n",
    "        only when ``oob_score`` is True.\n",
    "\n",
    "    See Also\n",
    "    --------\n",
    "    sklearn.tree.DecisionTreeClassifier : A decision tree classifier.\n",
    "    sklearn.ensemble.ExtraTreesClassifier : Ensemble of extremely randomized\n",
    "        tree classifiers.\n",
    "\n",
    "    Notes\n",
    "    -----\n",
    "    The default values for the parameters controlling the size of the trees\n",
    "    (e.g. ``max_depth``, ``min_samples_leaf``, etc.) lead to fully grown and\n",
    "    unpruned trees which can potentially be very large on some data sets. To\n",
    "    reduce memory consumption, the complexity and size of the trees should be\n",
    "    controlled by setting those parameter values.\n",
    "\n",
    "    The features are always randomly permuted at each split. Therefore,\n",
    "    the best found split may vary, even with the same training data,\n",
    "    ``max_features=n_features`` and ``bootstrap=False``, if the improvement\n",
    "    of the criterion is identical for several splits enumerated during the\n",
    "    search of the best split. To obtain a deterministic behaviour during\n",
    "    fitting, ``random_state`` has to be fixed.\n",
    "\n",
    "    References\n",
    "    ----------\n",
    "    .. [1] L. Breiman, \"Random Forests\", Machine Learning, 45(1), 5-32, 2001.\n"
   ]
  },
  {
   "cell_type": "code",
   "execution_count": 129,
   "metadata": {},
   "outputs": [
    {
     "data": {
      "text/plain": [
       "{'bootstrap': True,\n",
       " 'ccp_alpha': 0.0,\n",
       " 'class_weight': None,\n",
       " 'criterion': 'gini',\n",
       " 'max_depth': None,\n",
       " 'max_features': 'auto',\n",
       " 'max_leaf_nodes': None,\n",
       " 'max_samples': None,\n",
       " 'min_impurity_decrease': 0.0,\n",
       " 'min_samples_leaf': 1,\n",
       " 'min_samples_split': 2,\n",
       " 'min_weight_fraction_leaf': 0.0,\n",
       " 'n_estimators': 100,\n",
       " 'n_jobs': None,\n",
       " 'oob_score': False,\n",
       " 'random_state': 617,\n",
       " 'verbose': 0,\n",
       " 'warm_start': False}"
      ]
     },
     "execution_count": 129,
     "metadata": {},
     "output_type": "execute_result"
    }
   ],
   "source": [
    "forest.get_params()"
   ]
  },
  {
   "cell_type": "code",
   "execution_count": 140,
   "metadata": {},
   "outputs": [],
   "source": [
    "grid_forest = GridSearchCV(forest, params_forest, cv=5)"
   ]
  },
  {
   "cell_type": "code",
   "execution_count": 141,
   "metadata": {},
   "outputs": [
    {
     "data": {
      "text/plain": [
       "GridSearchCV(cv=5,\n",
       "             estimator=RandomForestClassifier(oob_score=True, random_state=617),\n",
       "             param_grid={'criterion': ['gini', 'entropy'],\n",
       "                         'max_depth': [10, 20, None], 'min_samples_leaf': [1],\n",
       "                         'min_samples_split': [2], 'n_estimators': [100, 50],\n",
       "                         'n_jobs': [1]})"
      ]
     },
     "execution_count": 141,
     "metadata": {},
     "output_type": "execute_result"
    }
   ],
   "source": [
    "grid_forest.fit(X_train, y_train)"
   ]
  },
  {
   "cell_type": "code",
   "execution_count": 146,
   "metadata": {},
   "outputs": [],
   "source": [
    "forest_results = pd.DataFrame(grid_forest.cv_results_['params'])\n",
    "forest_results['rank_test_scores'] = grid_forest.cv_results_['rank_test_score']\n",
    "forest_results['mean_test_scores'] = grid_forest.cv_results_['mean_test_score']\n",
    "forest_results['mean_fit_time'] = grid_forest.cv_results_['mean_fit_time']\n",
    "forest_results['mean_score_time'] = grid_forest.cv_results_['mean_score_time']\n",
    "forest_results['avg_time'] = forest_results.mean_fit_time + forest_results.mean_score_time\n",
    "forest_results.drop(columns= ['mean_fit_time', 'mean_score_time'], inplace=True)\n"
   ]
  },
  {
   "cell_type": "code",
   "execution_count": 147,
   "metadata": {},
   "outputs": [
    {
     "data": {
      "text/html": [
       "<div>\n",
       "<style scoped>\n",
       "    .dataframe tbody tr th:only-of-type {\n",
       "        vertical-align: middle;\n",
       "    }\n",
       "\n",
       "    .dataframe tbody tr th {\n",
       "        vertical-align: top;\n",
       "    }\n",
       "\n",
       "    .dataframe thead th {\n",
       "        text-align: right;\n",
       "    }\n",
       "</style>\n",
       "<table border=\"1\" class=\"dataframe\">\n",
       "  <thead>\n",
       "    <tr style=\"text-align: right;\">\n",
       "      <th></th>\n",
       "      <th>criterion</th>\n",
       "      <th>max_depth</th>\n",
       "      <th>min_samples_leaf</th>\n",
       "      <th>min_samples_split</th>\n",
       "      <th>n_estimators</th>\n",
       "      <th>n_jobs</th>\n",
       "      <th>rank_test_scores</th>\n",
       "      <th>mean_test_scores</th>\n",
       "      <th>avg_time</th>\n",
       "    </tr>\n",
       "  </thead>\n",
       "  <tbody>\n",
       "    <tr>\n",
       "      <th>11</th>\n",
       "      <td>entropy</td>\n",
       "      <td>NaN</td>\n",
       "      <td>1</td>\n",
       "      <td>2</td>\n",
       "      <td>50</td>\n",
       "      <td>1</td>\n",
       "      <td>1</td>\n",
       "      <td>0.550000</td>\n",
       "      <td>0.027472</td>\n",
       "    </tr>\n",
       "    <tr>\n",
       "      <th>9</th>\n",
       "      <td>entropy</td>\n",
       "      <td>20.0</td>\n",
       "      <td>1</td>\n",
       "      <td>2</td>\n",
       "      <td>50</td>\n",
       "      <td>1</td>\n",
       "      <td>1</td>\n",
       "      <td>0.550000</td>\n",
       "      <td>0.027813</td>\n",
       "    </tr>\n",
       "    <tr>\n",
       "      <th>2</th>\n",
       "      <td>gini</td>\n",
       "      <td>20.0</td>\n",
       "      <td>1</td>\n",
       "      <td>2</td>\n",
       "      <td>100</td>\n",
       "      <td>1</td>\n",
       "      <td>3</td>\n",
       "      <td>0.542857</td>\n",
       "      <td>0.054098</td>\n",
       "    </tr>\n",
       "    <tr>\n",
       "      <th>4</th>\n",
       "      <td>gini</td>\n",
       "      <td>NaN</td>\n",
       "      <td>1</td>\n",
       "      <td>2</td>\n",
       "      <td>100</td>\n",
       "      <td>1</td>\n",
       "      <td>3</td>\n",
       "      <td>0.542857</td>\n",
       "      <td>0.054722</td>\n",
       "    </tr>\n",
       "    <tr>\n",
       "      <th>7</th>\n",
       "      <td>entropy</td>\n",
       "      <td>10.0</td>\n",
       "      <td>1</td>\n",
       "      <td>2</td>\n",
       "      <td>50</td>\n",
       "      <td>1</td>\n",
       "      <td>5</td>\n",
       "      <td>0.535714</td>\n",
       "      <td>0.028249</td>\n",
       "    </tr>\n",
       "  </tbody>\n",
       "</table>\n",
       "</div>"
      ],
      "text/plain": [
       "   criterion  max_depth  min_samples_leaf  min_samples_split  n_estimators  \\\n",
       "11   entropy        NaN                 1                  2            50   \n",
       "9    entropy       20.0                 1                  2            50   \n",
       "2       gini       20.0                 1                  2           100   \n",
       "4       gini        NaN                 1                  2           100   \n",
       "7    entropy       10.0                 1                  2            50   \n",
       "\n",
       "    n_jobs  rank_test_scores  mean_test_scores  avg_time  \n",
       "11       1                 1          0.550000  0.027472  \n",
       "9        1                 1          0.550000  0.027813  \n",
       "2        1                 3          0.542857  0.054098  \n",
       "4        1                 3          0.542857  0.054722  \n",
       "7        1                 5          0.535714  0.028249  "
      ]
     },
     "execution_count": 147,
     "metadata": {},
     "output_type": "execute_result"
    }
   ],
   "source": [
    "forest_results.sort_values(['rank_test_scores', 'avg_time']).head()"
   ]
  },
  {
   "cell_type": "code",
   "execution_count": 145,
   "metadata": {},
   "outputs": [
    {
     "data": {
      "text/plain": [
       "dict_keys(['mean_fit_time', 'std_fit_time', 'mean_score_time', 'std_score_time', 'param_criterion', 'param_max_depth', 'param_min_samples_leaf', 'param_min_samples_split', 'param_n_estimators', 'param_n_jobs', 'params', 'split0_test_score', 'split1_test_score', 'split2_test_score', 'split3_test_score', 'split4_test_score', 'mean_test_score', 'std_test_score', 'rank_test_score'])"
      ]
     },
     "execution_count": 145,
     "metadata": {},
     "output_type": "execute_result"
    }
   ],
   "source": [
    "grid_forest.cv_results_.keys()"
   ]
  },
  {
   "cell_type": "code",
   "execution_count": 148,
   "metadata": {},
   "outputs": [
    {
     "data": {
      "text/plain": [
       "{'criterion': 'entropy',\n",
       " 'max_depth': 20,\n",
       " 'min_samples_leaf': 1,\n",
       " 'min_samples_split': 2,\n",
       " 'n_estimators': 50,\n",
       " 'n_jobs': 1}"
      ]
     },
     "execution_count": 148,
     "metadata": {},
     "output_type": "execute_result"
    }
   ],
   "source": [
    "grid_forest.best_params_"
   ]
  },
  {
   "cell_type": "code",
   "execution_count": 149,
   "metadata": {},
   "outputs": [
    {
     "data": {
      "text/plain": [
       "RandomForestClassifier(criterion='entropy', max_depth=20, n_estimators=50,\n",
       "                       n_jobs=1, oob_score=True, random_state=617)"
      ]
     },
     "execution_count": 149,
     "metadata": {},
     "output_type": "execute_result"
    }
   ],
   "source": [
    "grid_forest.best_estimator_"
   ]
  },
  {
   "cell_type": "code",
   "execution_count": 150,
   "metadata": {},
   "outputs": [],
   "source": [
    "best_forest = grid_forest.best_estimator_"
   ]
  },
  {
   "cell_type": "code",
   "execution_count": 151,
   "metadata": {},
   "outputs": [
    {
     "data": {
      "text/plain": [
       "RandomForestClassifier(criterion='entropy', max_depth=20, n_estimators=50,\n",
       "                       n_jobs=1, oob_score=True, random_state=617)"
      ]
     },
     "execution_count": 151,
     "metadata": {},
     "output_type": "execute_result"
    }
   ],
   "source": [
    "best_forest.fit(X_train, y_train)"
   ]
  },
  {
   "cell_type": "code",
   "execution_count": 152,
   "metadata": {},
   "outputs": [
    {
     "data": {
      "text/plain": [
       "0.6382978723404256"
      ]
     },
     "execution_count": 152,
     "metadata": {},
     "output_type": "execute_result"
    }
   ],
   "source": [
    "best_forest.score(X_validate, y_validate)"
   ]
  },
  {
   "cell_type": "code",
   "execution_count": 171,
   "metadata": {},
   "outputs": [],
   "source": [
    "from sklearn.neural_network import MLPClassifier\n",
    "from sklearn.naive_bayes import GaussianNB\n",
    "from sklearn.gaussian_process.kernels import RBF\n",
    "from sklearn.svm import SVC"
   ]
  },
  {
   "cell_type": "code",
   "execution_count": 172,
   "metadata": {},
   "outputs": [],
   "source": [
    "nb = GaussianNB()"
   ]
  },
  {
   "cell_type": "code",
   "execution_count": 173,
   "metadata": {},
   "outputs": [
    {
     "data": {
      "text/plain": [
       "GaussianNB()"
      ]
     },
     "execution_count": 173,
     "metadata": {},
     "output_type": "execute_result"
    }
   ],
   "source": [
    "nb.fit(X_train, y_train)"
   ]
  },
  {
   "cell_type": "code",
   "execution_count": 180,
   "metadata": {},
   "outputs": [
    {
     "data": {
      "text/plain": [
       "array(['auto', 'manual', 'manual', 'manual', 'manual', 'manual', 'auto',\n",
       "       'auto', 'manual', 'manual', 'manual', 'manual', 'manual', 'manual',\n",
       "       'auto', 'manual', 'manual', 'auto', 'manual', 'manual', 'manual',\n",
       "       'manual', 'manual', 'auto', 'manual', 'manual', 'manual', 'manual',\n",
       "       'auto', 'manual', 'auto', 'auto', 'auto', 'manual', 'manual',\n",
       "       'auto', 'manual', 'manual', 'manual', 'auto', 'manual', 'manual',\n",
       "       'auto', 'auto', 'auto', 'auto', 'manual', 'manual', 'manual',\n",
       "       'auto', 'manual', 'manual', 'manual', 'manual', 'auto', 'auto',\n",
       "       'manual', 'manual', 'manual', 'auto', 'auto', 'manual', 'manual',\n",
       "       'manual', 'manual', 'manual', 'manual', 'manual', 'manual', 'auto',\n",
       "       'manual', 'manual', 'manual', 'auto', 'manual', 'manual', 'manual',\n",
       "       'manual', 'manual', 'auto', 'auto', 'manual', 'manual', 'manual',\n",
       "       'manual', 'auto', 'manual', 'manual', 'manual', 'auto', 'auto',\n",
       "       'manual', 'manual', 'auto', 'manual', 'manual', 'manual', 'manual',\n",
       "       'auto', 'manual', 'manual', 'manual', 'auto', 'manual', 'manual',\n",
       "       'auto', 'auto', 'manual', 'manual', 'auto', 'manual', 'manual',\n",
       "       'auto', 'manual', 'manual', 'manual', 'manual', 'manual', 'manual',\n",
       "       'manual', 'manual', 'auto', 'auto', 'manual', 'manual', 'manual',\n",
       "       'auto', 'manual', 'manual', 'auto', 'manual', 'manual', 'auto',\n",
       "       'manual', 'auto', 'auto', 'manual', 'manual', 'manual', 'manual'],\n",
       "      dtype='<U6')"
      ]
     },
     "execution_count": 180,
     "metadata": {},
     "output_type": "execute_result"
    }
   ],
   "source": [
    "nb.predict(X_train)"
   ]
  },
  {
   "cell_type": "code",
   "execution_count": 182,
   "metadata": {},
   "outputs": [
    {
     "data": {
      "text/plain": [
       "array(['auto', 'auto', 'manual', 'manual', 'auto', 'auto', 'auto', 'auto',\n",
       "       'manual', 'auto', 'manual', 'auto', 'auto', 'auto', 'auto',\n",
       "       'manual', 'auto', 'auto', 'auto', 'manual', 'auto', 'auto', 'auto',\n",
       "       'auto', 'auto', 'manual', 'manual', 'auto', 'auto', 'manual',\n",
       "       'auto', 'manual', 'auto', 'auto', 'auto', 'manual', 'auto', 'auto',\n",
       "       'auto', 'auto', 'auto', 'manual', 'auto', 'auto', 'auto', 'auto',\n",
       "       'auto', 'auto', 'manual', 'auto', 'auto', 'manual', 'manual',\n",
       "       'auto', 'auto', 'auto', 'manual', 'auto', 'manual', 'auto', 'auto',\n",
       "       'auto', 'auto', 'manual', 'auto', 'manual', 'auto', 'auto',\n",
       "       'manual', 'manual', 'auto', 'auto', 'manual', 'auto', 'manual',\n",
       "       'auto', 'auto', 'auto', 'auto', 'auto', 'auto', 'auto', 'auto',\n",
       "       'manual', 'auto', 'auto', 'auto', 'auto', 'auto', 'auto', 'auto',\n",
       "       'auto', 'manual', 'auto', 'manual', 'manual', 'manual', 'auto',\n",
       "       'auto', 'manual', 'manual', 'manual', 'auto', 'auto', 'auto',\n",
       "       'auto', 'auto', 'auto', 'manual', 'auto', 'manual', 'manual',\n",
       "       'auto', 'manual', 'auto', 'auto', 'manual', 'manual', 'auto',\n",
       "       'manual', 'auto', 'auto', 'auto', 'manual', 'manual', 'auto',\n",
       "       'auto', 'manual', 'auto', 'auto', 'auto', 'manual', 'auto',\n",
       "       'manual', 'auto', 'auto', 'manual', 'auto', 'manual', 'manual'],\n",
       "      dtype=object)"
      ]
     },
     "execution_count": 182,
     "metadata": {},
     "output_type": "execute_result"
    }
   ],
   "source": [
    "y_train.values"
   ]
  },
  {
   "cell_type": "code",
   "execution_count": 175,
   "metadata": {},
   "outputs": [
    {
     "data": {
      "text/plain": [
       "0.5857142857142857"
      ]
     },
     "execution_count": 175,
     "metadata": {},
     "output_type": "execute_result"
    }
   ],
   "source": [
    "nb.score(X_train, y_train)"
   ]
  },
  {
   "cell_type": "code",
   "execution_count": 176,
   "metadata": {},
   "outputs": [
    {
     "data": {
      "text/plain": [
       "0.6170212765957447"
      ]
     },
     "execution_count": 176,
     "metadata": {},
     "output_type": "execute_result"
    }
   ],
   "source": [
    "nb.score(X_validate, y_validate)"
   ]
  },
  {
   "cell_type": "code",
   "execution_count": 183,
   "metadata": {},
   "outputs": [
    {
     "data": {
      "text/plain": [
       "array([0.67142857, 0.32857143])"
      ]
     },
     "execution_count": 183,
     "metadata": {},
     "output_type": "execute_result"
    }
   ],
   "source": [
    "nb.class_prior_"
   ]
  },
  {
   "cell_type": "code",
   "execution_count": 184,
   "metadata": {},
   "outputs": [],
   "source": [
    "mlp = MLPClassifier(activation='relu', solver='lbfgs', alpha=0.0001, learning_rate= 'adaptive')"
   ]
  },
  {
   "cell_type": "code",
   "execution_count": null,
   "metadata": {},
   "outputs": [],
   "source": []
  },
  {
   "cell_type": "code",
   "execution_count": null,
   "metadata": {},
   "outputs": [],
   "source": []
  },
  {
   "cell_type": "code",
   "execution_count": null,
   "metadata": {},
   "outputs": [],
   "source": []
  },
  {
   "cell_type": "code",
   "execution_count": null,
   "metadata": {},
   "outputs": [],
   "source": []
  },
  {
   "cell_type": "code",
   "execution_count": null,
   "metadata": {},
   "outputs": [],
   "source": []
  }
 ],
 "metadata": {
  "kernelspec": {
   "display_name": "Python 3.9.12 ('base')",
   "language": "python",
   "name": "python3"
  },
  "language_info": {
   "codemirror_mode": {
    "name": "ipython",
    "version": 3
   },
   "file_extension": ".py",
   "mimetype": "text/x-python",
   "name": "python",
   "nbconvert_exporter": "python",
   "pygments_lexer": "ipython3",
   "version": "3.9.12"
  },
  "orig_nbformat": 4,
  "vscode": {
   "interpreter": {
    "hash": "38cca0c38332a56087b24af0bc80247f4fced29cb4f7f437d91dc159adec9c4e"
   }
  }
 },
 "nbformat": 4,
 "nbformat_minor": 2
}
